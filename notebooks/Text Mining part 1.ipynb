{
 "cells": [
  {
   "cell_type": "code",
   "execution_count": 1,
   "metadata": {
    "slideshow": {
     "slide_type": "skip"
    }
   },
   "outputs": [],
   "source": [
    "from nltk import tokenize\n",
    "import re\n",
    "\n",
    "import matplotlib.pyplot as plt\n",
    "import seaborn as sns\n",
    "import string\n",
    "from spacy import displacy\n",
    "import spacy\n",
    "from IPython import display\n",
    "import numpy as np\n",
    "from jupyterthemes import jtplot\n",
    "\n",
    "from itertools import tee\n",
    "\n",
    "jtplot.style(theme='solarizedl')"
   ]
  },
  {
   "cell_type": "code",
   "execution_count": 2,
   "metadata": {
    "slideshow": {
     "slide_type": "skip"
    }
   },
   "outputs": [],
   "source": [
    "def print_tags(tokens, attribute, palette='Set2', with_tags=True):\n",
    "    \n",
    "    filter_out = ['PUNCT', \"\", \" \", None]\n",
    "    style = \"\"\"background: {}; padding: 0.45em 0.6em; margin: 0 0.25em; line-height: 1; border-radius: 0.35em;\"\"\"\n",
    "    tag_style = \"\"\"font-size: 0.8em; font-weight: bold; line-height: 1; border-radius: 0.35em; \n",
    "                    text-transform: uppercase; vertical-align: middle; margin-left: 0.5rem;\"\"\"\n",
    "    bare_style = \"\"\"line-height: 2.5; direction: ltr;\"\"\"\n",
    "    if not attribute.endswith('_'):\n",
    "        attribute+='_'\n",
    "        #color:{pal[n]}; \n",
    "        \n",
    "    attribs = np.unique([getattr(t, attribute) for t in tokens])\n",
    "    pal = sns.palettes.color_palette(palette, n_colors=len(attribs)).as_hex()\n",
    "    \n",
    "    stng = f'<p style=\"{bare_style}\">'\n",
    "    for i, token in enumerate(tokens):\n",
    "        if (str(token) not in string.punctuation) or (i==0):\n",
    "            stng = stng+ \" \"\n",
    "        color = pal[np.where(attribs==getattr(token, attribute))[0][0]]\n",
    "        \n",
    "        if with_tags and getattr(token, attribute) not in filter_out:\n",
    "            stng = stng + f'<text style=\"{style.format(color)}\">'\n",
    "            stng = stng + f'{token.text} <text style=\"{tag_style}\">{getattr(token, attribute)}' +'</text></text>'\n",
    "        elif getattr(token, attribute) in filter_out:\n",
    "            stng = stng + f'<text style=\"{bare_style}\">{token} </text>'\n",
    "        else:\n",
    "            stng = stng + f'<text style=\"{style.format(color)}\">{token} </text>'\n",
    "    if not with_tags:\n",
    "        \n",
    "        stng +=f'</p><p style=\"{bare_style}\">LEGEND:</p><p style=\"{bare_style}\">'\n",
    "        for i, p in enumerate(attribs):\n",
    "            if p not in filter_out:\n",
    "                stng = stng + f'<text style=\"{style.format(pal[i])}\">{spacy.explain(p)}: <text style=\"{tag_style}\">{p} </text></text>'\n",
    "    stng += '</p>'\n",
    "    return display.HTML(stng)\n",
    "\n",
    "def window(iterable, size):\n",
    "    iters = tee(iterable, size)\n",
    "    for i in range(1, size):\n",
    "        for each in iters[i:]:\n",
    "            next(each, None)\n",
    "    return zip(*iters)"
   ]
  },
  {
   "cell_type": "markdown",
   "metadata": {
    "slideshow": {
     "slide_type": "slide"
    }
   },
   "source": [
    "# Natural Language Processing -- Part 1"
   ]
  },
  {
   "cell_type": "markdown",
   "metadata": {
    "slideshow": {
     "slide_type": "slide"
    }
   },
   "source": [
    "## NLP\n",
    "\n",
    "Natural Language Processing (NLP) is the field concerned with computational techniques that allow computers to deal with human language. \n",
    "\n",
    "Linguistics provides a theoretical and historical basis for NLP, but NLP also falls within the realms of computer science and artificial intelligence.\n",
    "\n",
    "Besides text mining, NLP also covers text generation, chat bots, sentiment analysis, speech recognition, digital voice assistants like Siri and more. "
   ]
  },
  {
   "cell_type": "markdown",
   "metadata": {
    "slideshow": {
     "slide_type": "subslide"
    }
   },
   "source": [
    "### This part will cover the basis of text analysis\n",
    "<li>   <b>Regular Expression:</b> RegEx</li>\n",
    "<li>   <b>Tokenization:</b> Determining word units</li>\n",
    "<li>   <b>Lemmatization and Stemming:</b> Returning the base of a word\n",
    "<li>   <b>Part-of-speech tagging:</b> Determining grammatical function of a word</li>\n",
    "<li>   <b>Named entity recognition:</b> Recognizing real-world things (people, places)</li>\n",
    "<li>   <b>N-grams:</b> Grouping words that belong together</li>\n",
    "<li>   <b>Parsing:</b> Syntatic structure of a sentence </li>"
   ]
  },
  {
   "cell_type": "markdown",
   "metadata": {
    "slideshow": {
     "slide_type": "slide"
    }
   },
   "source": [
    "# Regular expression: RegEx\n",
    "\n",
    "Regular expression is a very common and wide-used technique for text mining. Using a special syntax to create patterns you can grab certain character groups from text.\n",
    "\n",
    "RegEx works best for words with distinct patterns such as phone numbers, email addresses or to remove unwanted characters.\n",
    "\n",
    "``` python\n",
    ">>> import re\n",
    "\n",
    ">>> re.match(\"cat\", \"The cat knocked the glass of the table.\")\n",
    ">>> \"cat\"\n",
    "\n",
    ">>> re.findall(r'\\d+', \"We have 3 cats and 2 dogs.\")\n",
    ">>> ['3', '2']\n",
    "```"
   ]
  },
  {
   "cell_type": "markdown",
   "metadata": {
    "cell_style": "split",
    "slideshow": {
     "slide_type": "slide"
    }
   },
   "source": [
    "<img src='https://miro.medium.com/max/1244/1*-0KNCt7wBY1T6lt3mCkCuQ.png'>\n",
    "In addition:\n",
    "\n",
    "``` python\n",
    ".      Any character except newline\n",
    "*      Match 0 or more\n",
    "+      Match 1 or more\n",
    "{n}    Match exactly n\n",
    "{n,}   Match at least n\n",
    "{n, m} Match between n and m\n",
    "```\n",
    "\n",
    "Other cheetsheets:\n",
    "https://cheatography.com/mutanclan/cheat-sheets/python-regular-expression-regex/"
   ]
  },
  {
   "cell_type": "code",
   "execution_count": 3,
   "metadata": {
    "cell_style": "split",
    "slideshow": {
     "slide_type": "fragment"
    }
   },
   "outputs": [
    {
     "name": "stdout",
     "output_type": "stream",
     "text": [
      "All bar: ['bar', 'bar']\n",
      "Only after foo: ['bar']\n"
     ]
    }
   ],
   "source": [
    "# Other useful expressions:\n",
    "# r'(?:...)' <- a non matching group\n",
    "#(?=...) Positive lookbehind\n",
    "my_string = \"foo bar bar baz\"\n",
    "\n",
    "print(\"All bar:\", re.findall(r'bar', my_string))\n",
    "print(\"Only after foo:\", re.findall(r'(?:foo\\s)(bar)', my_string))\n"
   ]
  },
  {
   "cell_type": "code",
   "execution_count": 4,
   "metadata": {
    "cell_style": "split"
   },
   "outputs": [
    {
     "data": {
      "text/plain": [
       "<function re.finditer(pattern, string, flags=0)>"
      ]
     },
     "execution_count": 4,
     "metadata": {},
     "output_type": "execute_result"
    }
   ],
   "source": [
    "re.match    # Try to apply the pattern at \n",
    "            # the start of the string\n",
    "re.search   # Scan through string \n",
    "            # looking for a match to the pattern\n",
    "re.findall  # Find all matches in a string\n",
    "re.finditer # Return an iterator over \n",
    "            # all non-overlapping matches"
   ]
  },
  {
   "cell_type": "markdown",
   "metadata": {
    "slideshow": {
     "slide_type": "slide"
    }
   },
   "source": [
    "More complicated regeular expression can become quite long:\n",
    "``` python\n",
    "\"^([a-zA-Z0-9_\\-\\.]+)@([a-zA-Z0-9_\\-\\.]+)\\.([a-zA-Z]{2,5})$\"\n",
    "```"
   ]
  },
  {
   "cell_type": "code",
   "execution_count": 5,
   "metadata": {
    "slideshow": {
     "slide_type": "fragment"
    }
   },
   "outputs": [
    {
     "data": {
      "text/plain": [
       "<re.Match object; span=(20, 45), match='groothuis.susanne@kpmg.nl'>"
      ]
     },
     "execution_count": 5,
     "metadata": {},
     "output_type": "execute_result"
    }
   ],
   "source": [
    "my_string = \"My email address is groothuis.susanne@kpmg.nl\"\n",
    "pattern = \"([a-zA-Z0-9_\\-\\.]+)@([a-zA-Z0-9_\\-\\.]+)\\.([a-zA-Z]{2,5})\"\n",
    "re.search(pattern, my_string)"
   ]
  },
  {
   "cell_type": "code",
   "execution_count": 6,
   "metadata": {
    "slideshow": {
     "slide_type": "slide"
    }
   },
   "outputs": [],
   "source": [
    "# You can also use regular expression to split texts:\n",
    "my_string = \"\"\"A regular expression (shortened as regex or regexp also referred to as rational expression) is a sequence of characters that define a search pattern. Usually such patterns are used by string-searching algorithms for \"find\" or \"find and replace\" operations on strings, or for input validation. It is a technique developed in theoretical computer science and formal language theory.\n",
    "\n",
    "The concept arose in the 1950s when the American mathematician Stephen Cole Kleene formalized the description of a regular language. The concept came into common use with Unix text-processing utilities. Different syntaxes for writing regular expressions have existed since the 1980s, one being the POSIX standard and another, widely used, being the Perl syntax.\n",
    "\n",
    "Regular expressions are used in search engines, search and replace dialogs of word processors and text editors, in text processing utilities such as sed and AWK and in lexical analysis. Many programming languages provide regex capabilities either built-in or via libraries.\"\"\""
   ]
  },
  {
   "cell_type": "code",
   "execution_count": 7,
   "metadata": {
    "slideshow": {
     "slide_type": "fragment"
    }
   },
   "outputs": [
    {
     "data": {
      "text/plain": [
       "['A regular expression (shortened as regex or regexp also referred to as rational expression) is a sequence of characters that define a search pattern',\n",
       " 'Usually such patterns are used by string-searching algorithms for \"find\" or \"find and replace\" operations on strings, or for input validation',\n",
       " 'It is a technique developed in theoretical computer science and formal language theory',\n",
       " '\\nThe concept arose in the 1950s when the American mathematician Stephen Cole Kleene formalized the description of a regular language',\n",
       " 'The concept came into common use with Unix text-processing utilities',\n",
       " 'Different syntaxes for writing regular expressions have existed since the 1980s, one being the POSIX standard and another, widely used, being the Perl syntax',\n",
       " '\\nRegular expressions are used in search engines, search and replace dialogs of word processors and text editors, in text processing utilities such as sed and AWK and in lexical analysis',\n",
       " 'Many programming languages provide regex capabilities either built-in or via libraries.']"
      ]
     },
     "execution_count": 7,
     "metadata": {},
     "output_type": "execute_result"
    }
   ],
   "source": [
    "re.split('\\.\\s',my_string)"
   ]
  },
  {
   "cell_type": "markdown",
   "metadata": {
    "slideshow": {
     "slide_type": "slide"
    }
   },
   "source": [
    "# Tokenization\n",
    "\n",
    "Tokenization is, generally, an early step in the NLP process, a step which splits longer strings of text into smaller pieces, or tokens. Larger chunks of text can be tokenized into sentences (“sentence tokens”), sentences can be tokenized into words (“word tokens”), etc."
   ]
  },
  {
   "cell_type": "code",
   "execution_count": 8,
   "metadata": {
    "slideshow": {
     "slide_type": "fragment"
    }
   },
   "outputs": [
    {
     "data": {
      "text/plain": [
       "[\"We've\", 'tokenized', 'this', 'sentence', 'into', 'words.']"
      ]
     },
     "execution_count": 8,
     "metadata": {},
     "output_type": "execute_result"
    }
   ],
   "source": [
    "sentence = \"We've tokenized this sentence into words.\"\n",
    "sentence.split(' ')"
   ]
  },
  {
   "cell_type": "markdown",
   "metadata": {
    "slideshow": {
     "slide_type": "slide"
    }
   },
   "source": [
    "#### There are tokenizers that split up sentences based on punctuation"
   ]
  },
  {
   "cell_type": "code",
   "execution_count": 9,
   "metadata": {
    "slideshow": {
     "slide_type": "fragment"
    }
   },
   "outputs": [
    {
     "name": "stdout",
     "output_type": "stream",
     "text": [
      "There are 8 sentences.\n"
     ]
    },
    {
     "data": {
      "text/plain": [
       "['A regular expression (shortened as regex or regexp also referred to as rational expression) is a sequence of characters that define a search pattern.',\n",
       " 'Usually such patterns are used by string-searching algorithms for \"find\" or \"find and replace\" operations on strings, or for input validation.',\n",
       " 'It is a technique developed in theoretical computer science and formal language theory.',\n",
       " 'The concept arose in the 1950s when the American mathematician Stephen Cole Kleene formalized the description of a regular language.',\n",
       " 'The concept came into common use with Unix text-processing utilities.',\n",
       " 'Different syntaxes for writing regular expressions have existed since the 1980s, one being the POSIX standard and another, widely used, being the Perl syntax.',\n",
       " 'Regular expressions are used in search engines, search and replace dialogs of word processors and text editors, in text processing utilities such as sed and AWK and in lexical analysis.',\n",
       " 'Many programming languages provide regex capabilities either built-in or via libraries.']"
      ]
     },
     "execution_count": 9,
     "metadata": {},
     "output_type": "execute_result"
    }
   ],
   "source": [
    "tok = tokenize.PunktSentenceTokenizer()\n",
    "tokens = tok.tokenize(my_string)\n",
    "print(f\"There are {len(tokens)} sentences.\")\n",
    "tokens"
   ]
  },
  {
   "cell_type": "markdown",
   "metadata": {
    "slideshow": {
     "slide_type": "slide"
    }
   },
   "source": [
    "#### Other split all words and punctuations as seperate tokens"
   ]
  },
  {
   "cell_type": "code",
   "execution_count": 10,
   "metadata": {},
   "outputs": [
    {
     "name": "stdout",
     "output_type": "stream",
     "text": [
      "There are 166 tokens\n"
     ]
    },
    {
     "data": {
      "text/plain": [
       "['A',\n",
       " 'regular',\n",
       " 'expression',\n",
       " '(',\n",
       " 'shortened',\n",
       " 'as',\n",
       " 'regex',\n",
       " 'or',\n",
       " 'regexp',\n",
       " 'also',\n",
       " 'referred',\n",
       " 'to',\n",
       " 'as',\n",
       " 'rational',\n",
       " 'expression',\n",
       " ')',\n",
       " 'is',\n",
       " 'a',\n",
       " 'sequence',\n",
       " 'of',\n",
       " 'characters',\n",
       " 'that',\n",
       " 'define',\n",
       " 'a',\n",
       " 'search',\n",
       " 'pattern.',\n",
       " 'Usually',\n",
       " 'such',\n",
       " 'patterns',\n",
       " 'are',\n",
       " 'used',\n",
       " 'by',\n",
       " 'string-searching',\n",
       " 'algorithms',\n",
       " 'for',\n",
       " '``',\n",
       " 'find',\n",
       " \"''\",\n",
       " 'or',\n",
       " '``',\n",
       " 'find',\n",
       " 'and',\n",
       " 'replace',\n",
       " \"''\",\n",
       " 'operations',\n",
       " 'on',\n",
       " 'strings',\n",
       " ',',\n",
       " 'or',\n",
       " 'for',\n",
       " 'input',\n",
       " 'validation.',\n",
       " 'It',\n",
       " 'is',\n",
       " 'a',\n",
       " 'technique',\n",
       " 'developed',\n",
       " 'in',\n",
       " 'theoretical',\n",
       " 'computer',\n",
       " 'science',\n",
       " 'and',\n",
       " 'formal',\n",
       " 'language',\n",
       " 'theory.',\n",
       " 'The',\n",
       " 'concept',\n",
       " 'arose',\n",
       " 'in',\n",
       " 'the',\n",
       " '1950s',\n",
       " 'when',\n",
       " 'the',\n",
       " 'American',\n",
       " 'mathematician',\n",
       " 'Stephen',\n",
       " 'Cole',\n",
       " 'Kleene',\n",
       " 'formalized',\n",
       " 'the',\n",
       " 'description',\n",
       " 'of',\n",
       " 'a',\n",
       " 'regular',\n",
       " 'language.',\n",
       " 'The',\n",
       " 'concept',\n",
       " 'came',\n",
       " 'into',\n",
       " 'common',\n",
       " 'use',\n",
       " 'with',\n",
       " 'Unix',\n",
       " 'text-processing',\n",
       " 'utilities.',\n",
       " 'Different',\n",
       " 'syntaxes',\n",
       " 'for',\n",
       " 'writing',\n",
       " 'regular',\n",
       " 'expressions',\n",
       " 'have',\n",
       " 'existed',\n",
       " 'since',\n",
       " 'the',\n",
       " '1980s',\n",
       " ',',\n",
       " 'one',\n",
       " 'being',\n",
       " 'the',\n",
       " 'POSIX',\n",
       " 'standard',\n",
       " 'and',\n",
       " 'another',\n",
       " ',',\n",
       " 'widely',\n",
       " 'used',\n",
       " ',',\n",
       " 'being',\n",
       " 'the',\n",
       " 'Perl',\n",
       " 'syntax.',\n",
       " 'Regular',\n",
       " 'expressions',\n",
       " 'are',\n",
       " 'used',\n",
       " 'in',\n",
       " 'search',\n",
       " 'engines',\n",
       " ',',\n",
       " 'search',\n",
       " 'and',\n",
       " 'replace',\n",
       " 'dialogs',\n",
       " 'of',\n",
       " 'word',\n",
       " 'processors',\n",
       " 'and',\n",
       " 'text',\n",
       " 'editors',\n",
       " ',',\n",
       " 'in',\n",
       " 'text',\n",
       " 'processing',\n",
       " 'utilities',\n",
       " 'such',\n",
       " 'as',\n",
       " 'sed',\n",
       " 'and',\n",
       " 'AWK',\n",
       " 'and',\n",
       " 'in',\n",
       " 'lexical',\n",
       " 'analysis.',\n",
       " 'Many',\n",
       " 'programming',\n",
       " 'languages',\n",
       " 'provide',\n",
       " 'regex',\n",
       " 'capabilities',\n",
       " 'either',\n",
       " 'built-in',\n",
       " 'or',\n",
       " 'via',\n",
       " 'libraries',\n",
       " '.']"
      ]
     },
     "execution_count": 10,
     "metadata": {},
     "output_type": "execute_result"
    }
   ],
   "source": [
    "tok = tokenize.NLTKWordTokenizer()\n",
    "tokens = tok.tokenize(my_string)\n",
    "print(f\"There are {len(tokens)} tokens\")\n",
    "tokens"
   ]
  },
  {
   "cell_type": "markdown",
   "metadata": {
    "slideshow": {
     "slide_type": "slide"
    }
   },
   "source": [
    "#### Or you can define your own tokenizer using regular expression\n",
    "This tokenizer only keeps tokens that match to the regular expression. As you can see the numbers and special characters are no longer in the list of tokens."
   ]
  },
  {
   "cell_type": "code",
   "execution_count": 11,
   "metadata": {
    "slideshow": {
     "slide_type": "fragment"
    }
   },
   "outputs": [
    {
     "name": "stdout",
     "output_type": "stream",
     "text": [
      "There are 156 tokens\n"
     ]
    },
    {
     "data": {
      "text/plain": [
       "['A',\n",
       " 'regular',\n",
       " 'expression',\n",
       " 'shortened',\n",
       " 'as',\n",
       " 'regex',\n",
       " 'or',\n",
       " 'regexp',\n",
       " 'also',\n",
       " 'referred',\n",
       " 'to',\n",
       " 'as',\n",
       " 'rational',\n",
       " 'expression',\n",
       " 'is',\n",
       " 'a',\n",
       " 'sequence',\n",
       " 'of',\n",
       " 'characters',\n",
       " 'that',\n",
       " 'define',\n",
       " 'a',\n",
       " 'search',\n",
       " 'pattern',\n",
       " 'Usually',\n",
       " 'such',\n",
       " 'patterns',\n",
       " 'are',\n",
       " 'used',\n",
       " 'by',\n",
       " 'string',\n",
       " 'searching',\n",
       " 'algorithms',\n",
       " 'for',\n",
       " 'find',\n",
       " 'or',\n",
       " 'find',\n",
       " 'and',\n",
       " 'replace',\n",
       " 'operations',\n",
       " 'on',\n",
       " 'strings',\n",
       " 'or',\n",
       " 'for',\n",
       " 'input',\n",
       " 'validation',\n",
       " 'It',\n",
       " 'is',\n",
       " 'a',\n",
       " 'technique',\n",
       " 'developed',\n",
       " 'in',\n",
       " 'theoretical',\n",
       " 'computer',\n",
       " 'science',\n",
       " 'and',\n",
       " 'formal',\n",
       " 'language',\n",
       " 'theory',\n",
       " 'The',\n",
       " 'concept',\n",
       " 'arose',\n",
       " 'in',\n",
       " 'the',\n",
       " '1950s',\n",
       " 'when',\n",
       " 'the',\n",
       " 'American',\n",
       " 'mathematician',\n",
       " 'Stephen',\n",
       " 'Cole',\n",
       " 'Kleene',\n",
       " 'formalized',\n",
       " 'the',\n",
       " 'description',\n",
       " 'of',\n",
       " 'a',\n",
       " 'regular',\n",
       " 'language',\n",
       " 'The',\n",
       " 'concept',\n",
       " 'came',\n",
       " 'into',\n",
       " 'common',\n",
       " 'use',\n",
       " 'with',\n",
       " 'Unix',\n",
       " 'text',\n",
       " 'processing',\n",
       " 'utilities',\n",
       " 'Different',\n",
       " 'syntaxes',\n",
       " 'for',\n",
       " 'writing',\n",
       " 'regular',\n",
       " 'expressions',\n",
       " 'have',\n",
       " 'existed',\n",
       " 'since',\n",
       " 'the',\n",
       " '1980s',\n",
       " 'one',\n",
       " 'being',\n",
       " 'the',\n",
       " 'POSIX',\n",
       " 'standard',\n",
       " 'and',\n",
       " 'another',\n",
       " 'widely',\n",
       " 'used',\n",
       " 'being',\n",
       " 'the',\n",
       " 'Perl',\n",
       " 'syntax',\n",
       " 'Regular',\n",
       " 'expressions',\n",
       " 'are',\n",
       " 'used',\n",
       " 'in',\n",
       " 'search',\n",
       " 'engines',\n",
       " 'search',\n",
       " 'and',\n",
       " 'replace',\n",
       " 'dialogs',\n",
       " 'of',\n",
       " 'word',\n",
       " 'processors',\n",
       " 'and',\n",
       " 'text',\n",
       " 'editors',\n",
       " 'in',\n",
       " 'text',\n",
       " 'processing',\n",
       " 'utilities',\n",
       " 'such',\n",
       " 'as',\n",
       " 'sed',\n",
       " 'and',\n",
       " 'AWK',\n",
       " 'and',\n",
       " 'in',\n",
       " 'lexical',\n",
       " 'analysis',\n",
       " 'Many',\n",
       " 'programming',\n",
       " 'languages',\n",
       " 'provide',\n",
       " 'regex',\n",
       " 'capabilities',\n",
       " 'either',\n",
       " 'built',\n",
       " 'in',\n",
       " 'or',\n",
       " 'via',\n",
       " 'libraries']"
      ]
     },
     "execution_count": 11,
     "metadata": {},
     "output_type": "execute_result"
    }
   ],
   "source": [
    "pattern = '\\w+'\n",
    "tok = tokenize.RegexpTokenizer(pattern)\n",
    "tokens = tok.tokenize(my_string)\n",
    "print(f\"There are {len(tokens)} tokens\")\n",
    "tokens"
   ]
  },
  {
   "cell_type": "markdown",
   "metadata": {
    "slideshow": {
     "slide_type": "slide"
    }
   },
   "source": [
    "#### Other popular packages such as spacy use tokenizers in it's backend"
   ]
  },
  {
   "cell_type": "code",
   "execution_count": 12,
   "metadata": {
    "scrolled": true
   },
   "outputs": [
    {
     "name": "stdout",
     "output_type": "stream",
     "text": [
      "There are 181 tokens\n"
     ]
    },
    {
     "data": {
      "text/plain": [
       "[A,\n",
       " regular,\n",
       " expression,\n",
       " (,\n",
       " shortened,\n",
       " as,\n",
       " regex,\n",
       " or,\n",
       " regexp,\n",
       " also,\n",
       " referred,\n",
       " to,\n",
       " as,\n",
       " rational,\n",
       " expression,\n",
       " ),\n",
       " is,\n",
       " a,\n",
       " sequence,\n",
       " of,\n",
       " characters,\n",
       " that,\n",
       " define,\n",
       " a,\n",
       " search,\n",
       " pattern,\n",
       " .,\n",
       " Usually,\n",
       " such,\n",
       " patterns,\n",
       " are,\n",
       " used,\n",
       " by,\n",
       " string,\n",
       " -,\n",
       " searching,\n",
       " algorithms,\n",
       " for,\n",
       " \",\n",
       " find,\n",
       " \",\n",
       " or,\n",
       " \",\n",
       " find,\n",
       " and,\n",
       " replace,\n",
       " \",\n",
       " operations,\n",
       " on,\n",
       " strings,\n",
       " ,,\n",
       " or,\n",
       " for,\n",
       " input,\n",
       " validation,\n",
       " .,\n",
       " It,\n",
       " is,\n",
       " a,\n",
       " technique,\n",
       " developed,\n",
       " in,\n",
       " theoretical,\n",
       " computer,\n",
       " science,\n",
       " and,\n",
       " formal,\n",
       " language,\n",
       " theory,\n",
       " .,\n",
       " \n",
       " ,\n",
       " The,\n",
       " concept,\n",
       " arose,\n",
       " in,\n",
       " the,\n",
       " 1950s,\n",
       " when,\n",
       " the,\n",
       " American,\n",
       " mathematician,\n",
       " Stephen,\n",
       " Cole,\n",
       " Kleene,\n",
       " formalized,\n",
       " the,\n",
       " description,\n",
       " of,\n",
       " a,\n",
       " regular,\n",
       " language,\n",
       " .,\n",
       " The,\n",
       " concept,\n",
       " came,\n",
       " into,\n",
       " common,\n",
       " use,\n",
       " with,\n",
       " Unix,\n",
       " text,\n",
       " -,\n",
       " processing,\n",
       " utilities,\n",
       " .,\n",
       " Different,\n",
       " syntaxes,\n",
       " for,\n",
       " writing,\n",
       " regular,\n",
       " expressions,\n",
       " have,\n",
       " existed,\n",
       " since,\n",
       " the,\n",
       " 1980s,\n",
       " ,,\n",
       " one,\n",
       " being,\n",
       " the,\n",
       " POSIX,\n",
       " standard,\n",
       " and,\n",
       " another,\n",
       " ,,\n",
       " widely,\n",
       " used,\n",
       " ,,\n",
       " being,\n",
       " the,\n",
       " Perl,\n",
       " syntax,\n",
       " .,\n",
       " \n",
       " ,\n",
       " Regular,\n",
       " expressions,\n",
       " are,\n",
       " used,\n",
       " in,\n",
       " search,\n",
       " engines,\n",
       " ,,\n",
       " search,\n",
       " and,\n",
       " replace,\n",
       " dialogs,\n",
       " of,\n",
       " word,\n",
       " processors,\n",
       " and,\n",
       " text,\n",
       " editors,\n",
       " ,,\n",
       " in,\n",
       " text,\n",
       " processing,\n",
       " utilities,\n",
       " such,\n",
       " as,\n",
       " sed,\n",
       " and,\n",
       " AWK,\n",
       " and,\n",
       " in,\n",
       " lexical,\n",
       " analysis,\n",
       " .,\n",
       " Many,\n",
       " programming,\n",
       " languages,\n",
       " provide,\n",
       " regex,\n",
       " capabilities,\n",
       " either,\n",
       " built,\n",
       " -,\n",
       " in,\n",
       " or,\n",
       " via,\n",
       " libraries,\n",
       " .]"
      ]
     },
     "execution_count": 12,
     "metadata": {},
     "output_type": "execute_result"
    }
   ],
   "source": [
    "import spacy\n",
    "nlp = spacy.load('en_core_web_sm')\n",
    "doc = nlp(my_string)\n",
    "tokens = [tok for tok in doc]\n",
    "print(f\"There are {len(tokens)} tokens\")\n",
    "tokens"
   ]
  },
  {
   "cell_type": "markdown",
   "metadata": {
    "slideshow": {
     "slide_type": "slide"
    }
   },
   "source": [
    "# Stemming and Lemmatization\n",
    "\n",
    "Stemming and Lemmatization are two forms of reducing words to a basic form that captures the family of that word.\n",
    "\n",
    "Stemming usually cuts off a word to a base:\n",
    "> **Words** and **wording** become **word**\n",
    "\n",
    "> **Democracies** become **Democraci**\n",
    "\n",
    "Lemmatization tries to return the token to the base of the word:\n",
    "> **Democracies** becomes **Democracy**"
   ]
  },
  {
   "cell_type": "markdown",
   "metadata": {
    "slideshow": {
     "slide_type": "slide"
    }
   },
   "source": [
    "Withing both lemmatization and stemming are different algoritms that can be applied, and obviously they also vary for different languages.\n",
    "\n",
    "The most common stemming algorithms can be found in NLTK, which are the PorterStemmer and the Snowball Stemmer.\n",
    "\n",
    "Neither application is necessarily the best, they both have different advantages and disadvantages. You need to make a decision on which one to use depending on the application you have in mind."
   ]
  },
  {
   "cell_type": "markdown",
   "metadata": {
    "slideshow": {
     "slide_type": "slide"
    }
   },
   "source": [
    "Let's see an example of the differences between lemmatization and stemming, by comparing the lemmatizer of spacy and the SnowballStemmer from NLTK."
   ]
  },
  {
   "cell_type": "code",
   "execution_count": 13,
   "metadata": {
    "slideshow": {
     "slide_type": "fragment"
    }
   },
   "outputs": [
    {
     "data": {
      "text/html": [
       "<div>\n",
       "<style scoped>\n",
       "    .dataframe tbody tr th:only-of-type {\n",
       "        vertical-align: middle;\n",
       "    }\n",
       "\n",
       "    .dataframe tbody tr th {\n",
       "        vertical-align: top;\n",
       "    }\n",
       "\n",
       "    .dataframe thead th {\n",
       "        text-align: right;\n",
       "    }\n",
       "</style>\n",
       "<table border=\"1\" class=\"dataframe\">\n",
       "  <thead>\n",
       "    <tr style=\"text-align: right;\">\n",
       "      <th></th>\n",
       "      <th>token</th>\n",
       "      <th>lemma</th>\n",
       "      <th>stem</th>\n",
       "    </tr>\n",
       "  </thead>\n",
       "  <tbody>\n",
       "    <tr>\n",
       "      <th>0</th>\n",
       "      <td>Interesting</td>\n",
       "      <td>interesting</td>\n",
       "      <td>interest</td>\n",
       "    </tr>\n",
       "    <tr>\n",
       "      <th>1</th>\n",
       "      <td>sentences</td>\n",
       "      <td>sentence</td>\n",
       "      <td>sentenc</td>\n",
       "    </tr>\n",
       "    <tr>\n",
       "      <th>2</th>\n",
       "      <td>contain</td>\n",
       "      <td>contain</td>\n",
       "      <td>contain</td>\n",
       "    </tr>\n",
       "    <tr>\n",
       "      <th>3</th>\n",
       "      <td>various</td>\n",
       "      <td>various</td>\n",
       "      <td>various</td>\n",
       "    </tr>\n",
       "    <tr>\n",
       "      <th>4</th>\n",
       "      <td>variations</td>\n",
       "      <td>variation</td>\n",
       "      <td>variat</td>\n",
       "    </tr>\n",
       "    <tr>\n",
       "      <th>5</th>\n",
       "      <td>wording</td>\n",
       "      <td>wording</td>\n",
       "      <td>word</td>\n",
       "    </tr>\n",
       "    <tr>\n",
       "      <th>6</th>\n",
       "      <td>words</td>\n",
       "      <td>word</td>\n",
       "      <td>word</td>\n",
       "    </tr>\n",
       "    <tr>\n",
       "      <th>7</th>\n",
       "      <td>of</td>\n",
       "      <td>of</td>\n",
       "      <td>of</td>\n",
       "    </tr>\n",
       "    <tr>\n",
       "      <th>8</th>\n",
       "      <td>interest</td>\n",
       "      <td>interest</td>\n",
       "      <td>interest</td>\n",
       "    </tr>\n",
       "  </tbody>\n",
       "</table>\n",
       "</div>"
      ],
      "text/plain": [
       "         token        lemma      stem\n",
       "0  Interesting  interesting  interest\n",
       "1    sentences     sentence   sentenc\n",
       "2      contain      contain   contain\n",
       "3      various      various   various\n",
       "4   variations    variation    variat\n",
       "5      wording      wording      word\n",
       "6        words         word      word\n",
       "7           of           of        of\n",
       "8     interest     interest  interest"
      ]
     },
     "execution_count": 13,
     "metadata": {},
     "output_type": "execute_result"
    }
   ],
   "source": [
    "from nltk.stem import SnowballStemmer\n",
    "import pandas as pd\n",
    "stemmer = SnowballStemmer('english')\n",
    "out =[]\n",
    "\n",
    "sentence = 'Interesting sentences contain various variations wording words of interest'\n",
    "doc2 = nlp(sentence)\n",
    "for token in doc2:\n",
    "    out.append({'token': token.text, 'lemma': token.lemma_, 'stem':stemmer.stem(token.text)})\n",
    "    \n",
    "pd.DataFrame.from_dict(out)"
   ]
  },
  {
   "cell_type": "markdown",
   "metadata": {
    "slideshow": {
     "slide_type": "slide"
    }
   },
   "source": [
    "# Part of speech tagging\n",
    "\n",
    "In part of speech tagging we assing each token it's grammatical purpose in the sentence. This means we tag verbs as verbs, and nouns as nouns.\n",
    "\n"
   ]
  },
  {
   "cell_type": "code",
   "execution_count": 29,
   "metadata": {
    "slideshow": {
     "slide_type": "fragment"
    }
   },
   "outputs": [
    {
     "data": {
      "text/plain": [
       "<AxesSubplot:>"
      ]
     },
     "execution_count": 29,
     "metadata": {},
     "output_type": "execute_result"
    },
    {
     "data": {
      "image/png": "[encoded data removed]",
      "text/plain": [
       "<Figure size 720x360 with 1 Axes>"
      ]
     },
     "metadata": {},
     "output_type": "display_data"
    }
   ],
   "source": [
    "pos_tags, counts = np.unique([t.pos_ for t in tokens], return_counts=True)\n",
    "plt.figure(figsize=(10,5))\n",
    "sns.barplot(x=pos_tags, y=counts)"
   ]
  },
  {
   "cell_type": "code",
   "execution_count": 15,
   "metadata": {
    "cell_style": "center",
    "slideshow": {
     "slide_type": "slide"
    }
   },
   "outputs": [
    {
     "data": {
      "text/html": [
       "<p style=\"line-height: 2.5; direction: ltr;\"> <text style=\"background: #ffd92f; padding: 0.45em 0.6em; margin: 0 0.25em; line-height: 1; border-radius: 0.35em;\">A </text> <text style=\"background: #66c2a5; padding: 0.45em 0.6em; margin: 0 0.25em; line-height: 1; border-radius: 0.35em;\">regular </text> <text style=\"background: #e5c494; padding: 0.45em 0.6em; margin: 0 0.25em; line-height: 1; border-radius: 0.35em;\">expression </text><text style=\"line-height: 2.5; direction: ltr;\">( </text> <text style=\"background: #ffd92f; padding: 0.45em 0.6em; margin: 0 0.25em; line-height: 1; border-radius: 0.35em;\">shortened </text> <text style=\"background: #e78ac3; padding: 0.45em 0.6em; margin: 0 0.25em; line-height: 1; border-radius: 0.35em;\">as </text> <text style=\"background: #e5c494; padding: 0.45em 0.6em; margin: 0 0.25em; line-height: 1; border-radius: 0.35em;\">regex </text> <text style=\"background: #a6d854; padding: 0.45em 0.6em; margin: 0 0.25em; line-height: 1; border-radius: 0.35em;\">or </text> <text style=\"background: #fc8d62; padding: 0.45em 0.6em; margin: 0 0.25em; line-height: 1; border-radius: 0.35em;\">regexp </text> <text style=\"background: #8da0cb; padding: 0.45em 0.6em; margin: 0 0.25em; line-height: 1; border-radius: 0.35em;\">also </text> <text style=\"background: #ffd92f; padding: 0.45em 0.6em; margin: 0 0.25em; line-height: 1; border-radius: 0.35em;\">referred </text> <text style=\"background: #fc8d62; padding: 0.45em 0.6em; margin: 0 0.25em; line-height: 1; border-radius: 0.35em;\">to </text> <text style=\"background: #e78ac3; padding: 0.45em 0.6em; margin: 0 0.25em; line-height: 1; border-radius: 0.35em;\">as </text> <text style=\"background: #66c2a5; padding: 0.45em 0.6em; margin: 0 0.25em; line-height: 1; border-radius: 0.35em;\">rational </text> <text style=\"background: #e5c494; padding: 0.45em 0.6em; margin: 0 0.25em; line-height: 1; border-radius: 0.35em;\">expression </text><text style=\"line-height: 2.5; direction: ltr;\">) </text> <text style=\"background: #e78ac3; padding: 0.45em 0.6em; margin: 0 0.25em; line-height: 1; border-radius: 0.35em;\">is </text> <text style=\"background: #ffd92f; padding: 0.45em 0.6em; margin: 0 0.25em; line-height: 1; border-radius: 0.35em;\">a </text> <text style=\"background: #e5c494; padding: 0.45em 0.6em; margin: 0 0.25em; line-height: 1; border-radius: 0.35em;\">sequence </text> <text style=\"background: #fc8d62; padding: 0.45em 0.6em; margin: 0 0.25em; line-height: 1; border-radius: 0.35em;\">of </text> <text style=\"background: #e5c494; padding: 0.45em 0.6em; margin: 0 0.25em; line-height: 1; border-radius: 0.35em;\">characters </text> <text style=\"background: #ffd92f; padding: 0.45em 0.6em; margin: 0 0.25em; line-height: 1; border-radius: 0.35em;\">that </text> <text style=\"background: #ffd92f; padding: 0.45em 0.6em; margin: 0 0.25em; line-height: 1; border-radius: 0.35em;\">define </text> <text style=\"background: #ffd92f; padding: 0.45em 0.6em; margin: 0 0.25em; line-height: 1; border-radius: 0.35em;\">a </text> <text style=\"background: #e5c494; padding: 0.45em 0.6em; margin: 0 0.25em; line-height: 1; border-radius: 0.35em;\">search </text> <text style=\"background: #e5c494; padding: 0.45em 0.6em; margin: 0 0.25em; line-height: 1; border-radius: 0.35em;\">pattern </text><text style=\"line-height: 2.5; direction: ltr;\">. </text> <text style=\"background: #8da0cb; padding: 0.45em 0.6em; margin: 0 0.25em; line-height: 1; border-radius: 0.35em;\">Usually </text> <text style=\"background: #66c2a5; padding: 0.45em 0.6em; margin: 0 0.25em; line-height: 1; border-radius: 0.35em;\">such </text> <text style=\"background: #e5c494; padding: 0.45em 0.6em; margin: 0 0.25em; line-height: 1; border-radius: 0.35em;\">patterns </text> <text style=\"background: #e78ac3; padding: 0.45em 0.6em; margin: 0 0.25em; line-height: 1; border-radius: 0.35em;\">are </text> <text style=\"background: #ffd92f; padding: 0.45em 0.6em; margin: 0 0.25em; line-height: 1; border-radius: 0.35em;\">used </text> <text style=\"background: #fc8d62; padding: 0.45em 0.6em; margin: 0 0.25em; line-height: 1; border-radius: 0.35em;\">by </text> <text style=\"background: #e5c494; padding: 0.45em 0.6em; margin: 0 0.25em; line-height: 1; border-radius: 0.35em;\">string </text><text style=\"line-height: 2.5; direction: ltr;\">- </text> <text style=\"background: #ffd92f; padding: 0.45em 0.6em; margin: 0 0.25em; line-height: 1; border-radius: 0.35em;\">searching </text> <text style=\"background: #e5c494; padding: 0.45em 0.6em; margin: 0 0.25em; line-height: 1; border-radius: 0.35em;\">algorithms </text> <text style=\"background: #fc8d62; padding: 0.45em 0.6em; margin: 0 0.25em; line-height: 1; border-radius: 0.35em;\">for </text><text style=\"line-height: 2.5; direction: ltr;\">\" </text> <text style=\"background: #ffd92f; padding: 0.45em 0.6em; margin: 0 0.25em; line-height: 1; border-radius: 0.35em;\">find </text><text style=\"line-height: 2.5; direction: ltr;\">\" </text> <text style=\"background: #a6d854; padding: 0.45em 0.6em; margin: 0 0.25em; line-height: 1; border-radius: 0.35em;\">or </text><text style=\"line-height: 2.5; direction: ltr;\">\" </text> <text style=\"background: #ffd92f; padding: 0.45em 0.6em; margin: 0 0.25em; line-height: 1; border-radius: 0.35em;\">find </text> <text style=\"background: #a6d854; padding: 0.45em 0.6em; margin: 0 0.25em; line-height: 1; border-radius: 0.35em;\">and </text> <text style=\"background: #ffd92f; padding: 0.45em 0.6em; margin: 0 0.25em; line-height: 1; border-radius: 0.35em;\">replace </text><text style=\"line-height: 2.5; direction: ltr;\">\" </text> <text style=\"background: #e5c494; padding: 0.45em 0.6em; margin: 0 0.25em; line-height: 1; border-radius: 0.35em;\">operations </text> <text style=\"background: #fc8d62; padding: 0.45em 0.6em; margin: 0 0.25em; line-height: 1; border-radius: 0.35em;\">on </text> <text style=\"background: #e5c494; padding: 0.45em 0.6em; margin: 0 0.25em; line-height: 1; border-radius: 0.35em;\">strings </text><text style=\"line-height: 2.5; direction: ltr;\">, </text> <text style=\"background: #a6d854; padding: 0.45em 0.6em; margin: 0 0.25em; line-height: 1; border-radius: 0.35em;\">or </text> <text style=\"background: #fc8d62; padding: 0.45em 0.6em; margin: 0 0.25em; line-height: 1; border-radius: 0.35em;\">for </text> <text style=\"background: #e5c494; padding: 0.45em 0.6em; margin: 0 0.25em; line-height: 1; border-radius: 0.35em;\">input </text> <text style=\"background: #e5c494; padding: 0.45em 0.6em; margin: 0 0.25em; line-height: 1; border-radius: 0.35em;\">validation </text><text style=\"line-height: 2.5; direction: ltr;\">. </text> <text style=\"background: #66c2a5; padding: 0.45em 0.6em; margin: 0 0.25em; line-height: 1; border-radius: 0.35em;\">It </text> <text style=\"background: #e78ac3; padding: 0.45em 0.6em; margin: 0 0.25em; line-height: 1; border-radius: 0.35em;\">is </text> <text style=\"background: #ffd92f; padding: 0.45em 0.6em; margin: 0 0.25em; line-height: 1; border-radius: 0.35em;\">a </text> <text style=\"background: #e5c494; padding: 0.45em 0.6em; margin: 0 0.25em; line-height: 1; border-radius: 0.35em;\">technique </text> <text style=\"background: #ffd92f; padding: 0.45em 0.6em; margin: 0 0.25em; line-height: 1; border-radius: 0.35em;\">developed </text> <text style=\"background: #fc8d62; padding: 0.45em 0.6em; margin: 0 0.25em; line-height: 1; border-radius: 0.35em;\">in </text> <text style=\"background: #66c2a5; padding: 0.45em 0.6em; margin: 0 0.25em; line-height: 1; border-radius: 0.35em;\">theoretical </text> <text style=\"background: #e5c494; padding: 0.45em 0.6em; margin: 0 0.25em; line-height: 1; border-radius: 0.35em;\">computer </text> <text style=\"background: #e5c494; padding: 0.45em 0.6em; margin: 0 0.25em; line-height: 1; border-radius: 0.35em;\">science </text> <text style=\"background: #a6d854; padding: 0.45em 0.6em; margin: 0 0.25em; line-height: 1; border-radius: 0.35em;\">and </text> <text style=\"background: #66c2a5; padding: 0.45em 0.6em; margin: 0 0.25em; line-height: 1; border-radius: 0.35em;\">formal </text> <text style=\"background: #e5c494; padding: 0.45em 0.6em; margin: 0 0.25em; line-height: 1; border-radius: 0.35em;\">language </text> <text style=\"background: #e5c494; padding: 0.45em 0.6em; margin: 0 0.25em; line-height: 1; border-radius: 0.35em;\">theory </text><text style=\"line-height: 2.5; direction: ltr;\">. </text> <text style=\"background: #a6d854; padding: 0.45em 0.6em; margin: 0 0.25em; line-height: 1; border-radius: 0.35em;\">\n",
       "\n",
       " </text> <text style=\"background: #ffd92f; padding: 0.45em 0.6em; margin: 0 0.25em; line-height: 1; border-radius: 0.35em;\">The </text> <text style=\"background: #e5c494; padding: 0.45em 0.6em; margin: 0 0.25em; line-height: 1; border-radius: 0.35em;\">concept </text> <text style=\"background: #ffd92f; padding: 0.45em 0.6em; margin: 0 0.25em; line-height: 1; border-radius: 0.35em;\">arose </text> <text style=\"background: #fc8d62; padding: 0.45em 0.6em; margin: 0 0.25em; line-height: 1; border-radius: 0.35em;\">in </text> <text style=\"background: #ffd92f; padding: 0.45em 0.6em; margin: 0 0.25em; line-height: 1; border-radius: 0.35em;\">the </text> <text style=\"background: #e5c494; padding: 0.45em 0.6em; margin: 0 0.25em; line-height: 1; border-radius: 0.35em;\">1950s </text> <text style=\"background: #8da0cb; padding: 0.45em 0.6em; margin: 0 0.25em; line-height: 1; border-radius: 0.35em;\">when </text> <text style=\"background: #ffd92f; padding: 0.45em 0.6em; margin: 0 0.25em; line-height: 1; border-radius: 0.35em;\">the </text> <text style=\"background: #66c2a5; padding: 0.45em 0.6em; margin: 0 0.25em; line-height: 1; border-radius: 0.35em;\">American </text> <text style=\"background: #e5c494; padding: 0.45em 0.6em; margin: 0 0.25em; line-height: 1; border-radius: 0.35em;\">mathematician </text> <text style=\"background: #fc8d62; padding: 0.45em 0.6em; margin: 0 0.25em; line-height: 1; border-radius: 0.35em;\">Stephen </text> <text style=\"background: #fc8d62; padding: 0.45em 0.6em; margin: 0 0.25em; line-height: 1; border-radius: 0.35em;\">Cole </text> <text style=\"background: #fc8d62; padding: 0.45em 0.6em; margin: 0 0.25em; line-height: 1; border-radius: 0.35em;\">Kleene </text> <text style=\"background: #ffd92f; padding: 0.45em 0.6em; margin: 0 0.25em; line-height: 1; border-radius: 0.35em;\">formalized </text> <text style=\"background: #ffd92f; padding: 0.45em 0.6em; margin: 0 0.25em; line-height: 1; border-radius: 0.35em;\">the </text> <text style=\"background: #e5c494; padding: 0.45em 0.6em; margin: 0 0.25em; line-height: 1; border-radius: 0.35em;\">description </text> <text style=\"background: #fc8d62; padding: 0.45em 0.6em; margin: 0 0.25em; line-height: 1; border-radius: 0.35em;\">of </text> <text style=\"background: #ffd92f; padding: 0.45em 0.6em; margin: 0 0.25em; line-height: 1; border-radius: 0.35em;\">a </text> <text style=\"background: #66c2a5; padding: 0.45em 0.6em; margin: 0 0.25em; line-height: 1; border-radius: 0.35em;\">regular </text> <text style=\"background: #e5c494; padding: 0.45em 0.6em; margin: 0 0.25em; line-height: 1; border-radius: 0.35em;\">language </text><text style=\"line-height: 2.5; direction: ltr;\">. </text> <text style=\"background: #ffd92f; padding: 0.45em 0.6em; margin: 0 0.25em; line-height: 1; border-radius: 0.35em;\">The </text> <text style=\"background: #e5c494; padding: 0.45em 0.6em; margin: 0 0.25em; line-height: 1; border-radius: 0.35em;\">concept </text> <text style=\"background: #ffd92f; padding: 0.45em 0.6em; margin: 0 0.25em; line-height: 1; border-radius: 0.35em;\">came </text> <text style=\"background: #fc8d62; padding: 0.45em 0.6em; margin: 0 0.25em; line-height: 1; border-radius: 0.35em;\">into </text> <text style=\"background: #66c2a5; padding: 0.45em 0.6em; margin: 0 0.25em; line-height: 1; border-radius: 0.35em;\">common </text> <text style=\"background: #e5c494; padding: 0.45em 0.6em; margin: 0 0.25em; line-height: 1; border-radius: 0.35em;\">use </text> <text style=\"background: #fc8d62; padding: 0.45em 0.6em; margin: 0 0.25em; line-height: 1; border-radius: 0.35em;\">with </text> <text style=\"background: #fc8d62; padding: 0.45em 0.6em; margin: 0 0.25em; line-height: 1; border-radius: 0.35em;\">Unix </text> <text style=\"background: #e5c494; padding: 0.45em 0.6em; margin: 0 0.25em; line-height: 1; border-radius: 0.35em;\">text </text><text style=\"line-height: 2.5; direction: ltr;\">- </text> <text style=\"background: #ffd92f; padding: 0.45em 0.6em; margin: 0 0.25em; line-height: 1; border-radius: 0.35em;\">processing </text> <text style=\"background: #e5c494; padding: 0.45em 0.6em; margin: 0 0.25em; line-height: 1; border-radius: 0.35em;\">utilities </text><text style=\"line-height: 2.5; direction: ltr;\">. </text> <text style=\"background: #66c2a5; padding: 0.45em 0.6em; margin: 0 0.25em; line-height: 1; border-radius: 0.35em;\">Different </text> <text style=\"background: #e5c494; padding: 0.45em 0.6em; margin: 0 0.25em; line-height: 1; border-radius: 0.35em;\">syntaxes </text> <text style=\"background: #fc8d62; padding: 0.45em 0.6em; margin: 0 0.25em; line-height: 1; border-radius: 0.35em;\">for </text> <text style=\"background: #ffd92f; padding: 0.45em 0.6em; margin: 0 0.25em; line-height: 1; border-radius: 0.35em;\">writing </text> <text style=\"background: #66c2a5; padding: 0.45em 0.6em; margin: 0 0.25em; line-height: 1; border-radius: 0.35em;\">regular </text> <text style=\"background: #e5c494; padding: 0.45em 0.6em; margin: 0 0.25em; line-height: 1; border-radius: 0.35em;\">expressions </text> <text style=\"background: #e78ac3; padding: 0.45em 0.6em; margin: 0 0.25em; line-height: 1; border-radius: 0.35em;\">have </text> <text style=\"background: #ffd92f; padding: 0.45em 0.6em; margin: 0 0.25em; line-height: 1; border-radius: 0.35em;\">existed </text> <text style=\"background: #e78ac3; padding: 0.45em 0.6em; margin: 0 0.25em; line-height: 1; border-radius: 0.35em;\">since </text> <text style=\"background: #ffd92f; padding: 0.45em 0.6em; margin: 0 0.25em; line-height: 1; border-radius: 0.35em;\">the </text> <text style=\"background: #b3b3b3; padding: 0.45em 0.6em; margin: 0 0.25em; line-height: 1; border-radius: 0.35em;\">1980s </text><text style=\"line-height: 2.5; direction: ltr;\">, </text> <text style=\"background: #b3b3b3; padding: 0.45em 0.6em; margin: 0 0.25em; line-height: 1; border-radius: 0.35em;\">one </text> <text style=\"background: #e78ac3; padding: 0.45em 0.6em; margin: 0 0.25em; line-height: 1; border-radius: 0.35em;\">being </text> <text style=\"background: #ffd92f; padding: 0.45em 0.6em; margin: 0 0.25em; line-height: 1; border-radius: 0.35em;\">the </text> <text style=\"background: #fc8d62; padding: 0.45em 0.6em; margin: 0 0.25em; line-height: 1; border-radius: 0.35em;\">POSIX </text> <text style=\"background: #e5c494; padding: 0.45em 0.6em; margin: 0 0.25em; line-height: 1; border-radius: 0.35em;\">standard </text> <text style=\"background: #a6d854; padding: 0.45em 0.6em; margin: 0 0.25em; line-height: 1; border-radius: 0.35em;\">and </text> <text style=\"background: #ffd92f; padding: 0.45em 0.6em; margin: 0 0.25em; line-height: 1; border-radius: 0.35em;\">another </text><text style=\"line-height: 2.5; direction: ltr;\">, </text> <text style=\"background: #8da0cb; padding: 0.45em 0.6em; margin: 0 0.25em; line-height: 1; border-radius: 0.35em;\">widely </text> <text style=\"background: #ffd92f; padding: 0.45em 0.6em; margin: 0 0.25em; line-height: 1; border-radius: 0.35em;\">used </text><text style=\"line-height: 2.5; direction: ltr;\">, </text> <text style=\"background: #e78ac3; padding: 0.45em 0.6em; margin: 0 0.25em; line-height: 1; border-radius: 0.35em;\">being </text> <text style=\"background: #ffd92f; padding: 0.45em 0.6em; margin: 0 0.25em; line-height: 1; border-radius: 0.35em;\">the </text> <text style=\"background: #fc8d62; padding: 0.45em 0.6em; margin: 0 0.25em; line-height: 1; border-radius: 0.35em;\">Perl </text> <text style=\"background: #e5c494; padding: 0.45em 0.6em; margin: 0 0.25em; line-height: 1; border-radius: 0.35em;\">syntax </text><text style=\"line-height: 2.5; direction: ltr;\">. </text> <text style=\"background: #a6d854; padding: 0.45em 0.6em; margin: 0 0.25em; line-height: 1; border-radius: 0.35em;\">\n",
       "\n",
       " </text> <text style=\"background: #66c2a5; padding: 0.45em 0.6em; margin: 0 0.25em; line-height: 1; border-radius: 0.35em;\">Regular </text> <text style=\"background: #e5c494; padding: 0.45em 0.6em; margin: 0 0.25em; line-height: 1; border-radius: 0.35em;\">expressions </text> <text style=\"background: #e78ac3; padding: 0.45em 0.6em; margin: 0 0.25em; line-height: 1; border-radius: 0.35em;\">are </text> <text style=\"background: #ffd92f; padding: 0.45em 0.6em; margin: 0 0.25em; line-height: 1; border-radius: 0.35em;\">used </text> <text style=\"background: #fc8d62; padding: 0.45em 0.6em; margin: 0 0.25em; line-height: 1; border-radius: 0.35em;\">in </text> <text style=\"background: #e5c494; padding: 0.45em 0.6em; margin: 0 0.25em; line-height: 1; border-radius: 0.35em;\">search </text> <text style=\"background: #e5c494; padding: 0.45em 0.6em; margin: 0 0.25em; line-height: 1; border-radius: 0.35em;\">engines </text><text style=\"line-height: 2.5; direction: ltr;\">, </text> <text style=\"background: #ffd92f; padding: 0.45em 0.6em; margin: 0 0.25em; line-height: 1; border-radius: 0.35em;\">search </text> <text style=\"background: #a6d854; padding: 0.45em 0.6em; margin: 0 0.25em; line-height: 1; border-radius: 0.35em;\">and </text> <text style=\"background: #ffd92f; padding: 0.45em 0.6em; margin: 0 0.25em; line-height: 1; border-radius: 0.35em;\">replace </text> <text style=\"background: #e5c494; padding: 0.45em 0.6em; margin: 0 0.25em; line-height: 1; border-radius: 0.35em;\">dialogs </text> <text style=\"background: #fc8d62; padding: 0.45em 0.6em; margin: 0 0.25em; line-height: 1; border-radius: 0.35em;\">of </text> <text style=\"background: #e5c494; padding: 0.45em 0.6em; margin: 0 0.25em; line-height: 1; border-radius: 0.35em;\">word </text> <text style=\"background: #e5c494; padding: 0.45em 0.6em; margin: 0 0.25em; line-height: 1; border-radius: 0.35em;\">processors </text> <text style=\"background: #a6d854; padding: 0.45em 0.6em; margin: 0 0.25em; line-height: 1; border-radius: 0.35em;\">and </text> <text style=\"background: #e5c494; padding: 0.45em 0.6em; margin: 0 0.25em; line-height: 1; border-radius: 0.35em;\">text </text> <text style=\"background: #e5c494; padding: 0.45em 0.6em; margin: 0 0.25em; line-height: 1; border-radius: 0.35em;\">editors </text><text style=\"line-height: 2.5; direction: ltr;\">, </text> <text style=\"background: #fc8d62; padding: 0.45em 0.6em; margin: 0 0.25em; line-height: 1; border-radius: 0.35em;\">in </text> <text style=\"background: #e5c494; padding: 0.45em 0.6em; margin: 0 0.25em; line-height: 1; border-radius: 0.35em;\">text </text> <text style=\"background: #e5c494; padding: 0.45em 0.6em; margin: 0 0.25em; line-height: 1; border-radius: 0.35em;\">processing </text> <text style=\"background: #e5c494; padding: 0.45em 0.6em; margin: 0 0.25em; line-height: 1; border-radius: 0.35em;\">utilities </text> <text style=\"background: #66c2a5; padding: 0.45em 0.6em; margin: 0 0.25em; line-height: 1; border-radius: 0.35em;\">such </text> <text style=\"background: #e78ac3; padding: 0.45em 0.6em; margin: 0 0.25em; line-height: 1; border-radius: 0.35em;\">as </text> <text style=\"background: #ffd92f; padding: 0.45em 0.6em; margin: 0 0.25em; line-height: 1; border-radius: 0.35em;\">sed </text> <text style=\"background: #a6d854; padding: 0.45em 0.6em; margin: 0 0.25em; line-height: 1; border-radius: 0.35em;\">and </text> <text style=\"background: #fc8d62; padding: 0.45em 0.6em; margin: 0 0.25em; line-height: 1; border-radius: 0.35em;\">AWK </text> <text style=\"background: #a6d854; padding: 0.45em 0.6em; margin: 0 0.25em; line-height: 1; border-radius: 0.35em;\">and </text> <text style=\"background: #fc8d62; padding: 0.45em 0.6em; margin: 0 0.25em; line-height: 1; border-radius: 0.35em;\">in </text> <text style=\"background: #66c2a5; padding: 0.45em 0.6em; margin: 0 0.25em; line-height: 1; border-radius: 0.35em;\">lexical </text> <text style=\"background: #e5c494; padding: 0.45em 0.6em; margin: 0 0.25em; line-height: 1; border-radius: 0.35em;\">analysis </text><text style=\"line-height: 2.5; direction: ltr;\">. </text> <text style=\"background: #66c2a5; padding: 0.45em 0.6em; margin: 0 0.25em; line-height: 1; border-radius: 0.35em;\">Many </text> <text style=\"background: #e5c494; padding: 0.45em 0.6em; margin: 0 0.25em; line-height: 1; border-radius: 0.35em;\">programming </text> <text style=\"background: #e5c494; padding: 0.45em 0.6em; margin: 0 0.25em; line-height: 1; border-radius: 0.35em;\">languages </text> <text style=\"background: #ffd92f; padding: 0.45em 0.6em; margin: 0 0.25em; line-height: 1; border-radius: 0.35em;\">provide </text> <text style=\"background: #e5c494; padding: 0.45em 0.6em; margin: 0 0.25em; line-height: 1; border-radius: 0.35em;\">regex </text> <text style=\"background: #e5c494; padding: 0.45em 0.6em; margin: 0 0.25em; line-height: 1; border-radius: 0.35em;\">capabilities </text> <text style=\"background: #a6d854; padding: 0.45em 0.6em; margin: 0 0.25em; line-height: 1; border-radius: 0.35em;\">either </text> <text style=\"background: #ffd92f; padding: 0.45em 0.6em; margin: 0 0.25em; line-height: 1; border-radius: 0.35em;\">built </text><text style=\"line-height: 2.5; direction: ltr;\">- </text> <text style=\"background: #fc8d62; padding: 0.45em 0.6em; margin: 0 0.25em; line-height: 1; border-radius: 0.35em;\">in </text> <text style=\"background: #a6d854; padding: 0.45em 0.6em; margin: 0 0.25em; line-height: 1; border-radius: 0.35em;\">or </text> <text style=\"background: #fc8d62; padding: 0.45em 0.6em; margin: 0 0.25em; line-height: 1; border-radius: 0.35em;\">via </text> <text style=\"background: #e5c494; padding: 0.45em 0.6em; margin: 0 0.25em; line-height: 1; border-radius: 0.35em;\">libraries </text><text style=\"line-height: 2.5; direction: ltr;\">. </text></p><p style=\"line-height: 2.5; direction: ltr;\">LEGEND:</p><p style=\"line-height: 2.5; direction: ltr;\"><text style=\"background: #66c2a5; padding: 0.45em 0.6em; margin: 0 0.25em; line-height: 1; border-radius: 0.35em;\">adjective: <text style=\"font-size: 0.8em; font-weight: bold; line-height: 1; border-radius: 0.35em; \n",
       "                    text-transform: uppercase; vertical-align: middle; margin-left: 0.5rem;\">ADJ </text></text><text style=\"background: #fc8d62; padding: 0.45em 0.6em; margin: 0 0.25em; line-height: 1; border-radius: 0.35em;\">adposition: <text style=\"font-size: 0.8em; font-weight: bold; line-height: 1; border-radius: 0.35em; \n",
       "                    text-transform: uppercase; vertical-align: middle; margin-left: 0.5rem;\">ADP </text></text><text style=\"background: #8da0cb; padding: 0.45em 0.6em; margin: 0 0.25em; line-height: 1; border-radius: 0.35em;\">adverb: <text style=\"font-size: 0.8em; font-weight: bold; line-height: 1; border-radius: 0.35em; \n",
       "                    text-transform: uppercase; vertical-align: middle; margin-left: 0.5rem;\">ADV </text></text><text style=\"background: #e78ac3; padding: 0.45em 0.6em; margin: 0 0.25em; line-height: 1; border-radius: 0.35em;\">auxiliary: <text style=\"font-size: 0.8em; font-weight: bold; line-height: 1; border-radius: 0.35em; \n",
       "                    text-transform: uppercase; vertical-align: middle; margin-left: 0.5rem;\">AUX </text></text><text style=\"background: #a6d854; padding: 0.45em 0.6em; margin: 0 0.25em; line-height: 1; border-radius: 0.35em;\">coordinating conjunction: <text style=\"font-size: 0.8em; font-weight: bold; line-height: 1; border-radius: 0.35em; \n",
       "                    text-transform: uppercase; vertical-align: middle; margin-left: 0.5rem;\">CCONJ </text></text><text style=\"background: #ffd92f; padding: 0.45em 0.6em; margin: 0 0.25em; line-height: 1; border-radius: 0.35em;\">determiner: <text style=\"font-size: 0.8em; font-weight: bold; line-height: 1; border-radius: 0.35em; \n",
       "                    text-transform: uppercase; vertical-align: middle; margin-left: 0.5rem;\">DET </text></text><text style=\"background: #e5c494; padding: 0.45em 0.6em; margin: 0 0.25em; line-height: 1; border-radius: 0.35em;\">noun: <text style=\"font-size: 0.8em; font-weight: bold; line-height: 1; border-radius: 0.35em; \n",
       "                    text-transform: uppercase; vertical-align: middle; margin-left: 0.5rem;\">NOUN </text></text><text style=\"background: #b3b3b3; padding: 0.45em 0.6em; margin: 0 0.25em; line-height: 1; border-radius: 0.35em;\">numeral: <text style=\"font-size: 0.8em; font-weight: bold; line-height: 1; border-radius: 0.35em; \n",
       "                    text-transform: uppercase; vertical-align: middle; margin-left: 0.5rem;\">NUM </text></text><text style=\"background: #66c2a5; padding: 0.45em 0.6em; margin: 0 0.25em; line-height: 1; border-radius: 0.35em;\">pronoun: <text style=\"font-size: 0.8em; font-weight: bold; line-height: 1; border-radius: 0.35em; \n",
       "                    text-transform: uppercase; vertical-align: middle; margin-left: 0.5rem;\">PRON </text></text><text style=\"background: #fc8d62; padding: 0.45em 0.6em; margin: 0 0.25em; line-height: 1; border-radius: 0.35em;\">proper noun: <text style=\"font-size: 0.8em; font-weight: bold; line-height: 1; border-radius: 0.35em; \n",
       "                    text-transform: uppercase; vertical-align: middle; margin-left: 0.5rem;\">PROPN </text></text><text style=\"background: #e78ac3; padding: 0.45em 0.6em; margin: 0 0.25em; line-height: 1; border-radius: 0.35em;\">subordinating conjunction: <text style=\"font-size: 0.8em; font-weight: bold; line-height: 1; border-radius: 0.35em; \n",
       "                    text-transform: uppercase; vertical-align: middle; margin-left: 0.5rem;\">SCONJ </text></text><text style=\"background: #a6d854; padding: 0.45em 0.6em; margin: 0 0.25em; line-height: 1; border-radius: 0.35em;\">space: <text style=\"font-size: 0.8em; font-weight: bold; line-height: 1; border-radius: 0.35em; \n",
       "                    text-transform: uppercase; vertical-align: middle; margin-left: 0.5rem;\">SPACE </text></text><text style=\"background: #ffd92f; padding: 0.45em 0.6em; margin: 0 0.25em; line-height: 1; border-radius: 0.35em;\">verb: <text style=\"font-size: 0.8em; font-weight: bold; line-height: 1; border-radius: 0.35em; \n",
       "                    text-transform: uppercase; vertical-align: middle; margin-left: 0.5rem;\">VERB </text></text></p>"
      ],
      "text/plain": [
       "<IPython.core.display.HTML object>"
      ]
     },
     "execution_count": 15,
     "metadata": {},
     "output_type": "execute_result"
    }
   ],
   "source": [
    "print_tags(tokens, 'pos', 'Set2', with_tags=False)"
   ]
  },
  {
   "cell_type": "code",
   "execution_count": 16,
   "metadata": {
    "cell_style": "center",
    "slideshow": {
     "slide_type": "slide"
    }
   },
   "outputs": [
    {
     "name": "stdout",
     "output_type": "stream",
     "text": [
      "ADJ : adjective\n",
      "ADP : adposition\n",
      "ADV : adverb\n",
      "AUX : auxiliary\n",
      "CCONJ : coordinating conjunction\n",
      "DET : determiner\n",
      "NOUN : noun\n",
      "NUM : numeral\n",
      "PRON : pronoun\n",
      "PROPN : proper noun\n",
      "PUNCT : punctuation\n",
      "SCONJ : subordinating conjunction\n",
      "SPACE : space\n",
      "VERB : verb\n"
     ]
    }
   ],
   "source": [
    "for tag in pos_tags:\n",
    "    print(tag, ':', spacy.explain(tag))"
   ]
  },
  {
   "cell_type": "markdown",
   "metadata": {
    "cell_style": "center",
    "slideshow": {
     "slide_type": "fragment"
    }
   },
   "source": [
    "<a href=https://universaldependencies.org/u/pos/all.html style=\"color:gray;\">universaldependencies.org</a>"
   ]
  },
  {
   "cell_type": "code",
   "execution_count": 17,
   "metadata": {
    "cell_style": "center",
    "slideshow": {
     "slide_type": "slide"
    }
   },
   "outputs": [
    {
     "data": {
      "text/html": [
       "<span class=\"tex2jax_ignore\"><svg xmlns=\"http://www.w3.org/2000/svg\" xmlns:xlink=\"http://www.w3.org/1999/xlink\" xml:lang=\"en\" id=\"f10ca2fd1392423bbce0000b58e7e7b1-0\" class=\"displacy\" width=\"1625\" height=\"312.0\" direction=\"ltr\" style=\"max-width: none; height: 312.0px; color: #000000; background: #ffffff; font-family: Arial; direction: ltr\">\n",
       "<text class=\"displacy-token\" fill=\"currentColor\" text-anchor=\"middle\" y=\"222.0\">\n",
       "    <tspan class=\"displacy-word\" fill=\"currentColor\" x=\"50\">We</tspan>\n",
       "    <tspan class=\"displacy-tag\" dy=\"2em\" fill=\"currentColor\" x=\"50\">PRON</tspan>\n",
       "</text>\n",
       "\n",
       "<text class=\"displacy-token\" fill=\"currentColor\" text-anchor=\"middle\" y=\"222.0\">\n",
       "    <tspan class=\"displacy-word\" fill=\"currentColor\" x=\"225\">can</tspan>\n",
       "    <tspan class=\"displacy-tag\" dy=\"2em\" fill=\"currentColor\" x=\"225\">VERB</tspan>\n",
       "</text>\n",
       "\n",
       "<text class=\"displacy-token\" fill=\"currentColor\" text-anchor=\"middle\" y=\"222.0\">\n",
       "    <tspan class=\"displacy-word\" fill=\"currentColor\" x=\"400\">investigate</tspan>\n",
       "    <tspan class=\"displacy-tag\" dy=\"2em\" fill=\"currentColor\" x=\"400\">VERB</tspan>\n",
       "</text>\n",
       "\n",
       "<text class=\"displacy-token\" fill=\"currentColor\" text-anchor=\"middle\" y=\"222.0\">\n",
       "    <tspan class=\"displacy-word\" fill=\"currentColor\" x=\"575\">the</tspan>\n",
       "    <tspan class=\"displacy-tag\" dy=\"2em\" fill=\"currentColor\" x=\"575\">DET</tspan>\n",
       "</text>\n",
       "\n",
       "<text class=\"displacy-token\" fill=\"currentColor\" text-anchor=\"middle\" y=\"222.0\">\n",
       "    <tspan class=\"displacy-word\" fill=\"currentColor\" x=\"750\">relationship</tspan>\n",
       "    <tspan class=\"displacy-tag\" dy=\"2em\" fill=\"currentColor\" x=\"750\">NOUN</tspan>\n",
       "</text>\n",
       "\n",
       "<text class=\"displacy-token\" fill=\"currentColor\" text-anchor=\"middle\" y=\"222.0\">\n",
       "    <tspan class=\"displacy-word\" fill=\"currentColor\" x=\"925\">between</tspan>\n",
       "    <tspan class=\"displacy-tag\" dy=\"2em\" fill=\"currentColor\" x=\"925\">ADP</tspan>\n",
       "</text>\n",
       "\n",
       "<text class=\"displacy-token\" fill=\"currentColor\" text-anchor=\"middle\" y=\"222.0\">\n",
       "    <tspan class=\"displacy-word\" fill=\"currentColor\" x=\"1100\">words</tspan>\n",
       "    <tspan class=\"displacy-tag\" dy=\"2em\" fill=\"currentColor\" x=\"1100\">NOUN</tspan>\n",
       "</text>\n",
       "\n",
       "<text class=\"displacy-token\" fill=\"currentColor\" text-anchor=\"middle\" y=\"222.0\">\n",
       "    <tspan class=\"displacy-word\" fill=\"currentColor\" x=\"1275\">using</tspan>\n",
       "    <tspan class=\"displacy-tag\" dy=\"2em\" fill=\"currentColor\" x=\"1275\">VERB</tspan>\n",
       "</text>\n",
       "\n",
       "<text class=\"displacy-token\" fill=\"currentColor\" text-anchor=\"middle\" y=\"222.0\">\n",
       "    <tspan class=\"displacy-word\" fill=\"currentColor\" x=\"1450\">POS.</tspan>\n",
       "    <tspan class=\"displacy-tag\" dy=\"2em\" fill=\"currentColor\" x=\"1450\">PROPN</tspan>\n",
       "</text>\n",
       "\n",
       "<g class=\"displacy-arrow\">\n",
       "    <path class=\"displacy-arc\" id=\"arrow-f10ca2fd1392423bbce0000b58e7e7b1-0-0\" stroke-width=\"2px\" d=\"M70,177.0 C70,2.0 400.0,2.0 400.0,177.0\" fill=\"none\" stroke=\"currentColor\"/>\n",
       "    <text dy=\"1.25em\" style=\"font-size: 0.8em; letter-spacing: 1px\">\n",
       "        <textPath xlink:href=\"#arrow-f10ca2fd1392423bbce0000b58e7e7b1-0-0\" class=\"displacy-label\" startOffset=\"50%\" side=\"left\" fill=\"currentColor\" text-anchor=\"middle\">nsubj</textPath>\n",
       "    </text>\n",
       "    <path class=\"displacy-arrowhead\" d=\"M70,179.0 L62,167.0 78,167.0\" fill=\"currentColor\"/>\n",
       "</g>\n",
       "\n",
       "<g class=\"displacy-arrow\">\n",
       "    <path class=\"displacy-arc\" id=\"arrow-f10ca2fd1392423bbce0000b58e7e7b1-0-1\" stroke-width=\"2px\" d=\"M245,177.0 C245,89.5 395.0,89.5 395.0,177.0\" fill=\"none\" stroke=\"currentColor\"/>\n",
       "    <text dy=\"1.25em\" style=\"font-size: 0.8em; letter-spacing: 1px\">\n",
       "        <textPath xlink:href=\"#arrow-f10ca2fd1392423bbce0000b58e7e7b1-0-1\" class=\"displacy-label\" startOffset=\"50%\" side=\"left\" fill=\"currentColor\" text-anchor=\"middle\">aux</textPath>\n",
       "    </text>\n",
       "    <path class=\"displacy-arrowhead\" d=\"M245,179.0 L237,167.0 253,167.0\" fill=\"currentColor\"/>\n",
       "</g>\n",
       "\n",
       "<g class=\"displacy-arrow\">\n",
       "    <path class=\"displacy-arc\" id=\"arrow-f10ca2fd1392423bbce0000b58e7e7b1-0-2\" stroke-width=\"2px\" d=\"M595,177.0 C595,89.5 745.0,89.5 745.0,177.0\" fill=\"none\" stroke=\"currentColor\"/>\n",
       "    <text dy=\"1.25em\" style=\"font-size: 0.8em; letter-spacing: 1px\">\n",
       "        <textPath xlink:href=\"#arrow-f10ca2fd1392423bbce0000b58e7e7b1-0-2\" class=\"displacy-label\" startOffset=\"50%\" side=\"left\" fill=\"currentColor\" text-anchor=\"middle\">det</textPath>\n",
       "    </text>\n",
       "    <path class=\"displacy-arrowhead\" d=\"M595,179.0 L587,167.0 603,167.0\" fill=\"currentColor\"/>\n",
       "</g>\n",
       "\n",
       "<g class=\"displacy-arrow\">\n",
       "    <path class=\"displacy-arc\" id=\"arrow-f10ca2fd1392423bbce0000b58e7e7b1-0-3\" stroke-width=\"2px\" d=\"M420,177.0 C420,2.0 750.0,2.0 750.0,177.0\" fill=\"none\" stroke=\"currentColor\"/>\n",
       "    <text dy=\"1.25em\" style=\"font-size: 0.8em; letter-spacing: 1px\">\n",
       "        <textPath xlink:href=\"#arrow-f10ca2fd1392423bbce0000b58e7e7b1-0-3\" class=\"displacy-label\" startOffset=\"50%\" side=\"left\" fill=\"currentColor\" text-anchor=\"middle\">dobj</textPath>\n",
       "    </text>\n",
       "    <path class=\"displacy-arrowhead\" d=\"M750.0,179.0 L758.0,167.0 742.0,167.0\" fill=\"currentColor\"/>\n",
       "</g>\n",
       "\n",
       "<g class=\"displacy-arrow\">\n",
       "    <path class=\"displacy-arc\" id=\"arrow-f10ca2fd1392423bbce0000b58e7e7b1-0-4\" stroke-width=\"2px\" d=\"M770,177.0 C770,89.5 920.0,89.5 920.0,177.0\" fill=\"none\" stroke=\"currentColor\"/>\n",
       "    <text dy=\"1.25em\" style=\"font-size: 0.8em; letter-spacing: 1px\">\n",
       "        <textPath xlink:href=\"#arrow-f10ca2fd1392423bbce0000b58e7e7b1-0-4\" class=\"displacy-label\" startOffset=\"50%\" side=\"left\" fill=\"currentColor\" text-anchor=\"middle\">prep</textPath>\n",
       "    </text>\n",
       "    <path class=\"displacy-arrowhead\" d=\"M920.0,179.0 L928.0,167.0 912.0,167.0\" fill=\"currentColor\"/>\n",
       "</g>\n",
       "\n",
       "<g class=\"displacy-arrow\">\n",
       "    <path class=\"displacy-arc\" id=\"arrow-f10ca2fd1392423bbce0000b58e7e7b1-0-5\" stroke-width=\"2px\" d=\"M945,177.0 C945,89.5 1095.0,89.5 1095.0,177.0\" fill=\"none\" stroke=\"currentColor\"/>\n",
       "    <text dy=\"1.25em\" style=\"font-size: 0.8em; letter-spacing: 1px\">\n",
       "        <textPath xlink:href=\"#arrow-f10ca2fd1392423bbce0000b58e7e7b1-0-5\" class=\"displacy-label\" startOffset=\"50%\" side=\"left\" fill=\"currentColor\" text-anchor=\"middle\">pobj</textPath>\n",
       "    </text>\n",
       "    <path class=\"displacy-arrowhead\" d=\"M1095.0,179.0 L1103.0,167.0 1087.0,167.0\" fill=\"currentColor\"/>\n",
       "</g>\n",
       "\n",
       "<g class=\"displacy-arrow\">\n",
       "    <path class=\"displacy-arc\" id=\"arrow-f10ca2fd1392423bbce0000b58e7e7b1-0-6\" stroke-width=\"2px\" d=\"M1120,177.0 C1120,89.5 1270.0,89.5 1270.0,177.0\" fill=\"none\" stroke=\"currentColor\"/>\n",
       "    <text dy=\"1.25em\" style=\"font-size: 0.8em; letter-spacing: 1px\">\n",
       "        <textPath xlink:href=\"#arrow-f10ca2fd1392423bbce0000b58e7e7b1-0-6\" class=\"displacy-label\" startOffset=\"50%\" side=\"left\" fill=\"currentColor\" text-anchor=\"middle\">acl</textPath>\n",
       "    </text>\n",
       "    <path class=\"displacy-arrowhead\" d=\"M1270.0,179.0 L1278.0,167.0 1262.0,167.0\" fill=\"currentColor\"/>\n",
       "</g>\n",
       "\n",
       "<g class=\"displacy-arrow\">\n",
       "    <path class=\"displacy-arc\" id=\"arrow-f10ca2fd1392423bbce0000b58e7e7b1-0-7\" stroke-width=\"2px\" d=\"M1295,177.0 C1295,89.5 1445.0,89.5 1445.0,177.0\" fill=\"none\" stroke=\"currentColor\"/>\n",
       "    <text dy=\"1.25em\" style=\"font-size: 0.8em; letter-spacing: 1px\">\n",
       "        <textPath xlink:href=\"#arrow-f10ca2fd1392423bbce0000b58e7e7b1-0-7\" class=\"displacy-label\" startOffset=\"50%\" side=\"left\" fill=\"currentColor\" text-anchor=\"middle\">dobj</textPath>\n",
       "    </text>\n",
       "    <path class=\"displacy-arrowhead\" d=\"M1445.0,179.0 L1453.0,167.0 1437.0,167.0\" fill=\"currentColor\"/>\n",
       "</g>\n",
       "</svg></span>"
      ],
      "text/plain": [
       "<IPython.core.display.HTML object>"
      ]
     },
     "metadata": {},
     "output_type": "display_data"
    }
   ],
   "source": [
    "new_sentence = \"We can investigate the relationship between words using POS.\"\n",
    "doc = nlp(new_sentence)\n",
    "displacy.render(doc, style='dep')"
   ]
  },
  {
   "cell_type": "code",
   "execution_count": 18,
   "metadata": {
    "cell_style": "split",
    "slideshow": {
     "slide_type": "slide"
    }
   },
   "outputs": [
    {
     "name": "stdout",
     "output_type": "stream",
     "text": [
      "ROOT : None\n",
      "acl : clausal modifier of noun (adjectival clause)\n",
      "aux : auxiliary\n",
      "det : determiner\n",
      "dobj : direct object\n",
      "nsubj : nominal subject\n",
      "pobj : object of preposition\n",
      "prep : prepositional modifier\n",
      "punct : punctuation\n"
     ]
    }
   ],
   "source": [
    "dep_tags = np.unique([t.dep_ for t in doc])\n",
    "for tag in dep_tags:\n",
    "    print(tag, ':', spacy.explain(tag))"
   ]
  },
  {
   "cell_type": "code",
   "execution_count": 19,
   "metadata": {
    "cell_style": "split",
    "slideshow": {
     "slide_type": "fragment"
    }
   },
   "outputs": [
    {
     "data": {
      "text/html": [
       "<p style=\"line-height: 2.5; direction: ltr;\"> <text style=\"background: #ffd92f; padding: 0.45em 0.6em; margin: 0 0.25em; line-height: 1; border-radius: 0.35em;\">We <text style=\"font-size: 0.8em; font-weight: bold; line-height: 1; border-radius: 0.35em; \n",
       "                    text-transform: uppercase; vertical-align: middle; margin-left: 0.5rem;\">nsubj</text></text> <text style=\"background: #8da0cb; padding: 0.45em 0.6em; margin: 0 0.25em; line-height: 1; border-radius: 0.35em;\">can <text style=\"font-size: 0.8em; font-weight: bold; line-height: 1; border-radius: 0.35em; \n",
       "                    text-transform: uppercase; vertical-align: middle; margin-left: 0.5rem;\">aux</text></text> <text style=\"background: #66c2a5; padding: 0.45em 0.6em; margin: 0 0.25em; line-height: 1; border-radius: 0.35em;\">investigate <text style=\"font-size: 0.8em; font-weight: bold; line-height: 1; border-radius: 0.35em; \n",
       "                    text-transform: uppercase; vertical-align: middle; margin-left: 0.5rem;\">ROOT</text></text> <text style=\"background: #e78ac3; padding: 0.45em 0.6em; margin: 0 0.25em; line-height: 1; border-radius: 0.35em;\">the <text style=\"font-size: 0.8em; font-weight: bold; line-height: 1; border-radius: 0.35em; \n",
       "                    text-transform: uppercase; vertical-align: middle; margin-left: 0.5rem;\">det</text></text> <text style=\"background: #a6d854; padding: 0.45em 0.6em; margin: 0 0.25em; line-height: 1; border-radius: 0.35em;\">relationship <text style=\"font-size: 0.8em; font-weight: bold; line-height: 1; border-radius: 0.35em; \n",
       "                    text-transform: uppercase; vertical-align: middle; margin-left: 0.5rem;\">dobj</text></text> <text style=\"background: #b3b3b3; padding: 0.45em 0.6em; margin: 0 0.25em; line-height: 1; border-radius: 0.35em;\">between <text style=\"font-size: 0.8em; font-weight: bold; line-height: 1; border-radius: 0.35em; \n",
       "                    text-transform: uppercase; vertical-align: middle; margin-left: 0.5rem;\">prep</text></text> <text style=\"background: #e5c494; padding: 0.45em 0.6em; margin: 0 0.25em; line-height: 1; border-radius: 0.35em;\">words <text style=\"font-size: 0.8em; font-weight: bold; line-height: 1; border-radius: 0.35em; \n",
       "                    text-transform: uppercase; vertical-align: middle; margin-left: 0.5rem;\">pobj</text></text> <text style=\"background: #fc8d62; padding: 0.45em 0.6em; margin: 0 0.25em; line-height: 1; border-radius: 0.35em;\">using <text style=\"font-size: 0.8em; font-weight: bold; line-height: 1; border-radius: 0.35em; \n",
       "                    text-transform: uppercase; vertical-align: middle; margin-left: 0.5rem;\">acl</text></text> <text style=\"background: #a6d854; padding: 0.45em 0.6em; margin: 0 0.25em; line-height: 1; border-radius: 0.35em;\">POS <text style=\"font-size: 0.8em; font-weight: bold; line-height: 1; border-radius: 0.35em; \n",
       "                    text-transform: uppercase; vertical-align: middle; margin-left: 0.5rem;\">dobj</text></text><text style=\"background: #66c2a5; padding: 0.45em 0.6em; margin: 0 0.25em; line-height: 1; border-radius: 0.35em;\">. <text style=\"font-size: 0.8em; font-weight: bold; line-height: 1; border-radius: 0.35em; \n",
       "                    text-transform: uppercase; vertical-align: middle; margin-left: 0.5rem;\">punct</text></text></p>"
      ],
      "text/plain": [
       "<IPython.core.display.HTML object>"
      ]
     },
     "execution_count": 19,
     "metadata": {},
     "output_type": "execute_result"
    }
   ],
   "source": [
    "print_tags(doc, 'dep')"
   ]
  },
  {
   "cell_type": "markdown",
   "metadata": {
    "cell_style": "center",
    "slideshow": {
     "slide_type": "slide"
    }
   },
   "source": [
    "# Named entity Recognition\n",
    "\n",
    "Named entity regognition (or NER) is all about identifying words that relate to real-life things such as people, places, organisations etc."
   ]
  },
  {
   "cell_type": "code",
   "execution_count": 20,
   "metadata": {
    "cell_style": "split",
    "slideshow": {
     "slide_type": "slide"
    }
   },
   "outputs": [
    {
     "data": {
      "text/html": [
       "<span class=\"tex2jax_ignore\"><div class=\"entities\" style=\"line-height: 2.5; direction: ltr\">\n",
       "<mark class=\"entity\" style=\"background: #aa9cfc; padding: 0.45em 0.6em; margin: 0 0.25em; line-height: 1; border-radius: 0.35em;\">\n",
       "    Ginsburg\n",
       "    <span style=\"font-size: 0.8em; font-weight: bold; line-height: 1; border-radius: 0.35em; text-transform: uppercase; vertical-align: middle; margin-left: 0.5rem\">PERSON</span>\n",
       "</mark>\n",
       " was born and grew up in \n",
       "<mark class=\"entity\" style=\"background: #feca74; padding: 0.45em 0.6em; margin: 0 0.25em; line-height: 1; border-radius: 0.35em;\">\n",
       "    Brooklyn\n",
       "    <span style=\"font-size: 0.8em; font-weight: bold; line-height: 1; border-radius: 0.35em; text-transform: uppercase; vertical-align: middle; margin-left: 0.5rem\">GPE</span>\n",
       "</mark>\n",
       ", \n",
       "<mark class=\"entity\" style=\"background: #feca74; padding: 0.45em 0.6em; margin: 0 0.25em; line-height: 1; border-radius: 0.35em;\">\n",
       "    New York\n",
       "    <span style=\"font-size: 0.8em; font-weight: bold; line-height: 1; border-radius: 0.35em; text-transform: uppercase; vertical-align: middle; margin-left: 0.5rem\">GPE</span>\n",
       "</mark>\n",
       ". </br>Her older sister died when she was a baby, and her mother died shortly before \n",
       "<mark class=\"entity\" style=\"background: #aa9cfc; padding: 0.45em 0.6em; margin: 0 0.25em; line-height: 1; border-radius: 0.35em;\">\n",
       "    Ginsburg\n",
       "    <span style=\"font-size: 0.8em; font-weight: bold; line-height: 1; border-radius: 0.35em; text-transform: uppercase; vertical-align: middle; margin-left: 0.5rem\">PERSON</span>\n",
       "</mark>\n",
       " </br>graduated from high school. She earned her bachelor's degree at \n",
       "<mark class=\"entity\" style=\"background: #7aecec; padding: 0.45em 0.6em; margin: 0 0.25em; line-height: 1; border-radius: 0.35em;\">\n",
       "    Cornell University\n",
       "    <span style=\"font-size: 0.8em; font-weight: bold; line-height: 1; border-radius: 0.35em; text-transform: uppercase; vertical-align: middle; margin-left: 0.5rem\">ORG</span>\n",
       "</mark>\n",
       " </br>and married \n",
       "<mark class=\"entity\" style=\"background: #aa9cfc; padding: 0.45em 0.6em; margin: 0 0.25em; line-height: 1; border-radius: 0.35em;\">\n",
       "    Martin D. Ginsburg\n",
       "    <span style=\"font-size: 0.8em; font-weight: bold; line-height: 1; border-radius: 0.35em; text-transform: uppercase; vertical-align: middle; margin-left: 0.5rem\">PERSON</span>\n",
       "</mark>\n",
       ", becoming a mother before starting law school at \n",
       "<mark class=\"entity\" style=\"background: #7aecec; padding: 0.45em 0.6em; margin: 0 0.25em; line-height: 1; border-radius: 0.35em;\">\n",
       "    Harvard\n",
       "    <span style=\"font-size: 0.8em; font-weight: bold; line-height: 1; border-radius: 0.35em; text-transform: uppercase; vertical-align: middle; margin-left: 0.5rem\">ORG</span>\n",
       "</mark>\n",
       ", </br>where she was \n",
       "<mark class=\"entity\" style=\"background: #e4e7d2; padding: 0.45em 0.6em; margin: 0 0.25em; line-height: 1; border-radius: 0.35em;\">\n",
       "    one\n",
       "    <span style=\"font-size: 0.8em; font-weight: bold; line-height: 1; border-radius: 0.35em; text-transform: uppercase; vertical-align: middle; margin-left: 0.5rem\">CARDINAL</span>\n",
       "</mark>\n",
       " of the few women in her class. \n",
       "<mark class=\"entity\" style=\"background: #aa9cfc; padding: 0.45em 0.6em; margin: 0 0.25em; line-height: 1; border-radius: 0.35em;\">\n",
       "    Ginsburg\n",
       "    <span style=\"font-size: 0.8em; font-weight: bold; line-height: 1; border-radius: 0.35em; text-transform: uppercase; vertical-align: middle; margin-left: 0.5rem\">PERSON</span>\n",
       "</mark>\n",
       " transferred to \n",
       "<mark class=\"entity\" style=\"background: #7aecec; padding: 0.45em 0.6em; margin: 0 0.25em; line-height: 1; border-radius: 0.35em;\">\n",
       "    Columbia Law School\n",
       "    <span style=\"font-size: 0.8em; font-weight: bold; line-height: 1; border-radius: 0.35em; text-transform: uppercase; vertical-align: middle; margin-left: 0.5rem\">ORG</span>\n",
       "</mark>\n",
       ",</br>where she graduated joint \n",
       "<mark class=\"entity\" style=\"background: #e4e7d2; padding: 0.45em 0.6em; margin: 0 0.25em; line-height: 1; border-radius: 0.35em;\">\n",
       "    first\n",
       "    <span style=\"font-size: 0.8em; font-weight: bold; line-height: 1; border-radius: 0.35em; text-transform: uppercase; vertical-align: middle; margin-left: 0.5rem\">ORDINAL</span>\n",
       "</mark>\n",
       " in her class. After law school, \n",
       "<mark class=\"entity\" style=\"background: #aa9cfc; padding: 0.45em 0.6em; margin: 0 0.25em; line-height: 1; border-radius: 0.35em;\">\n",
       "    Ginsburg\n",
       "    <span style=\"font-size: 0.8em; font-weight: bold; line-height: 1; border-radius: 0.35em; text-transform: uppercase; vertical-align: middle; margin-left: 0.5rem\">PERSON</span>\n",
       "</mark>\n",
       " entered academia. </br>She was a professor at \n",
       "<mark class=\"entity\" style=\"background: #7aecec; padding: 0.45em 0.6em; margin: 0 0.25em; line-height: 1; border-radius: 0.35em;\">\n",
       "    Rutgers Law School\n",
       "    <span style=\"font-size: 0.8em; font-weight: bold; line-height: 1; border-radius: 0.35em; text-transform: uppercase; vertical-align: middle; margin-left: 0.5rem\">ORG</span>\n",
       "</mark>\n",
       " and \n",
       "<mark class=\"entity\" style=\"background: #7aecec; padding: 0.45em 0.6em; margin: 0 0.25em; line-height: 1; border-radius: 0.35em;\">\n",
       "    Columbia Law School\n",
       "    <span style=\"font-size: 0.8em; font-weight: bold; line-height: 1; border-radius: 0.35em; text-transform: uppercase; vertical-align: middle; margin-left: 0.5rem\">ORG</span>\n",
       "</mark>\n",
       ", teaching civil \n",
       "procedure as one of the few women in her field.</div></span>"
      ],
      "text/plain": [
       "<IPython.core.display.HTML object>"
      ]
     },
     "metadata": {},
     "output_type": "display_data"
    }
   ],
   "source": [
    "txt = \"\"\"Ginsburg was born and grew up in Brooklyn, New York. \n",
    "Her older sister died when she was a baby, and her mother died shortly before Ginsburg \n",
    "graduated from high school. She earned her bachelor's degree at Cornell University \n",
    "and married Martin D. Ginsburg, becoming a mother before starting law school at Harvard, \n",
    "where she was one of the few women in her class. Ginsburg transferred to Columbia Law School,\n",
    "where she graduated joint first in her class. After law school, Ginsburg entered academia. \n",
    "She was a professor at Rutgers Law School and Columbia Law School, teaching civil \n",
    "procedure as one of the few women in her field.\"\"\"\n",
    "\n",
    "doc = nlp(txt)\n",
    "displacy.render(doc, style='ent')"
   ]
  },
  {
   "cell_type": "code",
   "execution_count": 21,
   "metadata": {
    "cell_style": "split",
    "slideshow": {
     "slide_type": "fragment"
    }
   },
   "outputs": [
    {
     "name": "stdout",
     "output_type": "stream",
     "text": [
      " : None\n",
      "CARDINAL : Numerals that do not fall under another type\n",
      "GPE : Countries, cities, states\n",
      "ORDINAL : \"first\", \"second\", etc.\n",
      "ORG : Companies, agencies, institutions, etc.\n",
      "PERSON : People, including fictional\n"
     ]
    }
   ],
   "source": [
    "for ent in np.unique([t.ent_type_ for t in doc]):\n",
    "    print(ent,':', spacy.explain(ent))"
   ]
  },
  {
   "cell_type": "code",
   "execution_count": 22,
   "metadata": {
    "cell_style": "center",
    "slideshow": {
     "slide_type": "slide"
    }
   },
   "outputs": [
    {
     "data": {
      "text/html": [
       "<span class=\"tex2jax_ignore\"><div class=\"entities\" style=\"line-height: 2.5; direction: ltr\">After the extermination of the \n",
       "<mark class=\"entity\" style=\"background: #7aecec; padding: 0.45em 0.6em; margin: 0 0.25em; line-height: 1; border-radius: 0.35em;\">\n",
       "    Luan\n",
       "    <span style=\"font-size: 0.8em; font-weight: bold; line-height: 1; border-radius: 0.35em; text-transform: uppercase; vertical-align: middle; margin-left: 0.5rem\">ORG</span>\n",
       "</mark>\n",
       " clan by \n",
       "<mark class=\"entity\" style=\"background: #aa9cfc; padding: 0.45em 0.6em; margin: 0 0.25em; line-height: 1; border-radius: 0.35em;\">\n",
       "    Duke Ding's\n",
       "    <span style=\"font-size: 0.8em; font-weight: bold; line-height: 1; border-radius: 0.35em; text-transform: uppercase; vertical-align: middle; margin-left: 0.5rem\">PERSON</span>\n",
       "</mark>\n",
       " great-grandfather \n",
       "<mark class=\"entity\" style=\"background: #aa9cfc; padding: 0.45em 0.6em; margin: 0 0.25em; line-height: 1; border-radius: 0.35em;\">\n",
       "    Duke Ping\n",
       "    <span style=\"font-size: 0.8em; font-weight: bold; line-height: 1; border-radius: 0.35em; text-transform: uppercase; vertical-align: middle; margin-left: 0.5rem\">PERSON</span>\n",
       "</mark>\n",
       ", </br>the state of \n",
       "<mark class=\"entity\" style=\"background: #7aecec; padding: 0.45em 0.6em; margin: 0 0.25em; line-height: 1; border-radius: 0.35em;\">\n",
       "    Jin\n",
       "    <span style=\"font-size: 0.8em; font-weight: bold; line-height: 1; border-radius: 0.35em; text-transform: uppercase; vertical-align: middle; margin-left: 0.5rem\">ORG</span>\n",
       "</mark>\n",
       " had been dominated by the \n",
       "<mark class=\"entity\" style=\"background: #e4e7d2; padding: 0.45em 0.6em; margin: 0 0.25em; line-height: 1; border-radius: 0.35em;\">\n",
       "    six\n",
       "    <span style=\"font-size: 0.8em; font-weight: bold; line-height: 1; border-radius: 0.35em; text-transform: uppercase; vertical-align: middle; margin-left: 0.5rem\">CARDINAL</span>\n",
       "</mark>\n",
       " powerful \n",
       "<mark class=\"entity\" style=\"background: #c887fb; padding: 0.45em 0.6em; margin: 0 0.25em; line-height: 1; border-radius: 0.35em;\">\n",
       "    clans\n",
       "    <span style=\"font-size: 0.8em; font-weight: bold; line-height: 1; border-radius: 0.35em; text-transform: uppercase; vertical-align: middle; margin-left: 0.5rem\">NORP</span>\n",
       "</mark>\n",
       " – Fan, \n",
       "<mark class=\"entity\" style=\"background: #c887fb; padding: 0.45em 0.6em; margin: 0 0.25em; line-height: 1; border-radius: 0.35em;\">\n",
       "    Han\n",
       "    <span style=\"font-size: 0.8em; font-weight: bold; line-height: 1; border-radius: 0.35em; text-transform: uppercase; vertical-align: middle; margin-left: 0.5rem\">NORP</span>\n",
       "</mark>\n",
       ", \n",
       "<mark class=\"entity\" style=\"background: #feca74; padding: 0.45em 0.6em; margin: 0 0.25em; line-height: 1; border-radius: 0.35em;\">\n",
       "    Zhao\n",
       "    <span style=\"font-size: 0.8em; font-weight: bold; line-height: 1; border-radius: 0.35em; text-transform: uppercase; vertical-align: middle; margin-left: 0.5rem\">GPE</span>\n",
       "</mark>\n",
       ", \n",
       "<mark class=\"entity\" style=\"background: #aa9cfc; padding: 0.45em 0.6em; margin: 0 0.25em; line-height: 1; border-radius: 0.35em;\">\n",
       "    Wei\n",
       "    <span style=\"font-size: 0.8em; font-weight: bold; line-height: 1; border-radius: 0.35em; text-transform: uppercase; vertical-align: middle; margin-left: 0.5rem\">PERSON</span>\n",
       "</mark>\n",
       ", \n",
       "<mark class=\"entity\" style=\"background: #aa9cfc; padding: 0.45em 0.6em; margin: 0 0.25em; line-height: 1; border-radius: 0.35em;\">\n",
       "    Zhonghang\n",
       "    <span style=\"font-size: 0.8em; font-weight: bold; line-height: 1; border-radius: 0.35em; text-transform: uppercase; vertical-align: middle; margin-left: 0.5rem\">PERSON</span>\n",
       "</mark>\n",
       ", and \n",
       "<mark class=\"entity\" style=\"background: #aa9cfc; padding: 0.45em 0.6em; margin: 0 0.25em; line-height: 1; border-radius: 0.35em;\">\n",
       "    Zhi\n",
       "    <span style=\"font-size: 0.8em; font-weight: bold; line-height: 1; border-radius: 0.35em; text-transform: uppercase; vertical-align: middle; margin-left: 0.5rem\">PERSON</span>\n",
       "</mark>\n",
       ". </br>In \n",
       "<mark class=\"entity\" style=\"background: #e4e7d2; padding: 0.45em 0.6em; margin: 0 0.25em; line-height: 1; border-radius: 0.35em;\">\n",
       "    497\n",
       "    <span style=\"font-size: 0.8em; font-weight: bold; line-height: 1; border-radius: 0.35em; text-transform: uppercase; vertical-align: middle; margin-left: 0.5rem\">CARDINAL</span>\n",
       "</mark>\n",
       " BC a dispute broke out between \n",
       "<mark class=\"entity\" style=\"background: #aa9cfc; padding: 0.45em 0.6em; margin: 0 0.25em; line-height: 1; border-radius: 0.35em;\">\n",
       "    Zhao Yang\n",
       "    <span style=\"font-size: 0.8em; font-weight: bold; line-height: 1; border-radius: 0.35em; text-transform: uppercase; vertical-align: middle; margin-left: 0.5rem\">PERSON</span>\n",
       "</mark>\n",
       " (趙鞅), the leader </br>of the \n",
       "<mark class=\"entity\" style=\"background: #feca74; padding: 0.45em 0.6em; margin: 0 0.25em; line-height: 1; border-radius: 0.35em;\">\n",
       "    Zhao\n",
       "    <span style=\"font-size: 0.8em; font-weight: bold; line-height: 1; border-radius: 0.35em; text-transform: uppercase; vertical-align: middle; margin-left: 0.5rem\">GPE</span>\n",
       "</mark>\n",
       " clan, and the \n",
       "<mark class=\"entity\" style=\"background: #aa9cfc; padding: 0.45em 0.6em; margin: 0 0.25em; line-height: 1; border-radius: 0.35em;\">\n",
       "    Fan\n",
       "    <span style=\"font-size: 0.8em; font-weight: bold; line-height: 1; border-radius: 0.35em; text-transform: uppercase; vertical-align: middle; margin-left: 0.5rem\">PERSON</span>\n",
       "</mark>\n",
       " and \n",
       "<mark class=\"entity\" style=\"background: #feca74; padding: 0.45em 0.6em; margin: 0 0.25em; line-height: 1; border-radius: 0.35em;\">\n",
       "    Zhonghang\n",
       "    <span style=\"font-size: 0.8em; font-weight: bold; line-height: 1; border-radius: 0.35em; text-transform: uppercase; vertical-align: middle; margin-left: 0.5rem\">GPE</span>\n",
       "</mark>\n",
       " clans.</div></span>"
      ],
      "text/plain": [
       "<IPython.core.display.HTML object>"
      ]
     },
     "metadata": {},
     "output_type": "display_data"
    }
   ],
   "source": [
    "txt = \"\"\"After the extermination of the Luan clan by Duke Ding's great-grandfather Duke Ping, \n",
    "the state of Jin had been dominated by the six powerful clans – Fan, Han, Zhao, Wei, Zhonghang, and Zhi. \n",
    "In 497 BC a dispute broke out between Zhao Yang (趙鞅), the leader \n",
    "of the Zhao clan, and the Fan and Zhonghang clans.\"\"\"\n",
    "\n",
    "doc = nlp(txt)\n",
    "displacy.render(doc, style='ent')"
   ]
  },
  {
   "cell_type": "code",
   "execution_count": 23,
   "metadata": {
    "slideshow": {
     "slide_type": "slide"
    }
   },
   "outputs": [
    {
     "data": {
      "text/html": [
       "<span class=\"tex2jax_ignore\"><div class=\"entities\" style=\"line-height: 2.5; direction: ltr\">\n",
       "<mark class=\"entity\" style=\"background: #7aecec; padding: 0.45em 0.6em; margin: 0 0.25em; line-height: 1; border-radius: 0.35em;\">\n",
       "    Giethoorn\n",
       "    <span style=\"font-size: 0.8em; font-weight: bold; line-height: 1; border-radius: 0.35em; text-transform: uppercase; vertical-align: middle; margin-left: 0.5rem\">ORG</span>\n",
       "</mark>\n",
       " used to be a pedestrian precinct, but nowadays exceptions are made. </br>It became locally famous, especially after \n",
       "<mark class=\"entity\" style=\"background: #bfe1d9; padding: 0.45em 0.6em; margin: 0 0.25em; line-height: 1; border-radius: 0.35em;\">\n",
       "    1958\n",
       "    <span style=\"font-size: 0.8em; font-weight: bold; line-height: 1; border-radius: 0.35em; text-transform: uppercase; vertical-align: middle; margin-left: 0.5rem\">DATE</span>\n",
       "</mark>\n",
       ", when the \n",
       "<mark class=\"entity\" style=\"background: #c887fb; padding: 0.45em 0.6em; margin: 0 0.25em; line-height: 1; border-radius: 0.35em;\">\n",
       "    Dutch\n",
       "    <span style=\"font-size: 0.8em; font-weight: bold; line-height: 1; border-radius: 0.35em; text-transform: uppercase; vertical-align: middle; margin-left: 0.5rem\">NORP</span>\n",
       "</mark>\n",
       " film maker \n",
       "<mark class=\"entity\" style=\"background: #aa9cfc; padding: 0.45em 0.6em; margin: 0 0.25em; line-height: 1; border-radius: 0.35em;\">\n",
       "    Bert Haanstra\n",
       "    <span style=\"font-size: 0.8em; font-weight: bold; line-height: 1; border-radius: 0.35em; text-transform: uppercase; vertical-align: middle; margin-left: 0.5rem\">PERSON</span>\n",
       "</mark>\n",
       " </br>made his famous comedy \n",
       "<mark class=\"entity\" style=\"background: #feca74; padding: 0.45em 0.6em; margin: 0 0.25em; line-height: 1; border-radius: 0.35em;\">\n",
       "    Fanfare\n",
       "    <span style=\"font-size: 0.8em; font-weight: bold; line-height: 1; border-radius: 0.35em; text-transform: uppercase; vertical-align: middle; margin-left: 0.5rem\">GPE</span>\n",
       "</mark>\n",
       " there. In the old part of the village, there were no roads </br>(though a cycling path was eventually added), and all transport was done by water </br>over one of the many canals. The lakes in \n",
       "<mark class=\"entity\" style=\"background: #feca74; padding: 0.45em 0.6em; margin: 0 0.25em; line-height: 1; border-radius: 0.35em;\">\n",
       "    Giethoorn\n",
       "    <span style=\"font-size: 0.8em; font-weight: bold; line-height: 1; border-radius: 0.35em; text-transform: uppercase; vertical-align: middle; margin-left: 0.5rem\">GPE</span>\n",
       "</mark>\n",
       " were formed by peat unearthing.</br></br>Giethoorn was a separate municipality until \n",
       "<mark class=\"entity\" style=\"background: #bfe1d9; padding: 0.45em 0.6em; margin: 0 0.25em; line-height: 1; border-radius: 0.35em;\">\n",
       "    1973\n",
       "    <span style=\"font-size: 0.8em; font-weight: bold; line-height: 1; border-radius: 0.35em; text-transform: uppercase; vertical-align: middle; margin-left: 0.5rem\">DATE</span>\n",
       "</mark>\n",
       ", when it became part of </br>Brederwiede, which lost its municipality status in \n",
       "<mark class=\"entity\" style=\"background: #bfe1d9; padding: 0.45em 0.6em; margin: 0 0.25em; line-height: 1; border-radius: 0.35em;\">\n",
       "    2001\n",
       "    <span style=\"font-size: 0.8em; font-weight: bold; line-height: 1; border-radius: 0.35em; text-transform: uppercase; vertical-align: middle; margin-left: 0.5rem\">DATE</span>\n",
       "</mark>\n",
       " to merge with \n",
       "<mark class=\"entity\" style=\"background: #feca74; padding: 0.45em 0.6em; margin: 0 0.25em; line-height: 1; border-radius: 0.35em;\">\n",
       "    Steenwijk\n",
       "    <span style=\"font-size: 0.8em; font-weight: bold; line-height: 1; border-radius: 0.35em; text-transform: uppercase; vertical-align: middle; margin-left: 0.5rem\">GPE</span>\n",
       "</mark>\n",
       ".\n",
       "</div></span>"
      ],
      "text/plain": [
       "<IPython.core.display.HTML object>"
      ]
     },
     "metadata": {},
     "output_type": "display_data"
    }
   ],
   "source": [
    "txt = \"\"\"Giethoorn used to be a pedestrian precinct, but nowadays exceptions are made. \n",
    "It became locally famous, especially after 1958, when the Dutch film maker Bert Haanstra \n",
    "made his famous comedy Fanfare there. In the old part of the village, there were no roads \n",
    "(though a cycling path was eventually added), and all transport was done by water \n",
    "over one of the many canals. The lakes in Giethoorn were formed by peat unearthing.\n",
    "\n",
    "Giethoorn was a separate municipality until 1973, when it became part of \n",
    "Brederwiede, which lost its municipality status in 2001 to merge with Steenwijk.\n",
    "\"\"\"\n",
    "\n",
    "doc = nlp(txt)\n",
    "displacy.render(doc, style='ent')"
   ]
  },
  {
   "cell_type": "code",
   "execution_count": 24,
   "metadata": {
    "slideshow": {
     "slide_type": "slide"
    }
   },
   "outputs": [],
   "source": [
    "# nlp = spacy.load('nl_core_news_md')\n",
    "import nl_core_news_md\n",
    "nlp = nl_core_news_md.load()"
   ]
  },
  {
   "cell_type": "code",
   "execution_count": 25,
   "metadata": {
    "slideshow": {
     "slide_type": "fragment"
    }
   },
   "outputs": [
    {
     "data": {
      "text/html": [
       "<span class=\"tex2jax_ignore\"><div class=\"entities\" style=\"line-height: 2.5; direction: ltr\">\n",
       "<mark class=\"entity\" style=\"background: #feca74; padding: 0.45em 0.6em; margin: 0 0.25em; line-height: 1; border-radius: 0.35em;\">\n",
       "    Giethoorn\n",
       "    <span style=\"font-size: 0.8em; font-weight: bold; line-height: 1; border-radius: 0.35em; text-transform: uppercase; vertical-align: middle; margin-left: 0.5rem\">GPE</span>\n",
       "</mark>\n",
       " (\n",
       "<mark class=\"entity\" style=\"background: #ff8197; padding: 0.45em 0.6em; margin: 0 0.25em; line-height: 1; border-radius: 0.35em;\">\n",
       "    Stellingwerfs\n",
       "    <span style=\"font-size: 0.8em; font-weight: bold; line-height: 1; border-radius: 0.35em; text-transform: uppercase; vertical-align: middle; margin-left: 0.5rem\">LANGUAGE</span>\n",
       "</mark>\n",
       ": \n",
       "<mark class=\"entity\" style=\"background: #feca74; padding: 0.45em 0.6em; margin: 0 0.25em; line-height: 1; border-radius: 0.35em;\">\n",
       "    Gietern\n",
       "    <span style=\"font-size: 0.8em; font-weight: bold; line-height: 1; border-radius: 0.35em; text-transform: uppercase; vertical-align: middle; margin-left: 0.5rem\">GPE</span>\n",
       "</mark>\n",
       ") is een waterstreekdorp in de kop van Overijssel, in de \n",
       "<mark class=\"entity\" style=\"background: #feca74; padding: 0.45em 0.6em; margin: 0 0.25em; line-height: 1; border-radius: 0.35em;\">\n",
       "    gemeente Steenwijkerland\n",
       "    <span style=\"font-size: 0.8em; font-weight: bold; line-height: 1; border-radius: 0.35em; text-transform: uppercase; vertical-align: middle; margin-left: 0.5rem\">GPE</span>\n",
       "</mark>\n",
       " in de \n",
       "<mark class=\"entity\" style=\"background: #c887fb; padding: 0.45em 0.6em; margin: 0 0.25em; line-height: 1; border-radius: 0.35em;\">\n",
       "    Nederlandse\n",
       "    <span style=\"font-size: 0.8em; font-weight: bold; line-height: 1; border-radius: 0.35em; text-transform: uppercase; vertical-align: middle; margin-left: 0.5rem\">NORP</span>\n",
       "</mark>\n",
       " \n",
       "<mark class=\"entity\" style=\"background: #feca74; padding: 0.45em 0.6em; margin: 0 0.25em; line-height: 1; border-radius: 0.35em;\">\n",
       "    provincie Overijssel\n",
       "    <span style=\"font-size: 0.8em; font-weight: bold; line-height: 1; border-radius: 0.35em; text-transform: uppercase; vertical-align: middle; margin-left: 0.5rem\">GPE</span>\n",
       "</mark>\n",
       " en ligt tussen </br>\n",
       "<mark class=\"entity\" style=\"background: #feca74; padding: 0.45em 0.6em; margin: 0 0.25em; line-height: 1; border-radius: 0.35em;\">\n",
       "    Steenwijk\n",
       "    <span style=\"font-size: 0.8em; font-weight: bold; line-height: 1; border-radius: 0.35em; text-transform: uppercase; vertical-align: middle; margin-left: 0.5rem\">GPE</span>\n",
       "</mark>\n",
       " en \n",
       "<mark class=\"entity\" style=\"background: #feca74; padding: 0.45em 0.6em; margin: 0 0.25em; line-height: 1; border-radius: 0.35em;\">\n",
       "    Meppel\n",
       "    <span style=\"font-size: 0.8em; font-weight: bold; line-height: 1; border-radius: 0.35em; text-transform: uppercase; vertical-align: middle; margin-left: 0.5rem\">GPE</span>\n",
       "</mark>\n",
       ".</br></br>\n",
       "<mark class=\"entity\" style=\"background: #aa9cfc; padding: 0.45em 0.6em; margin: 0 0.25em; line-height: 1; border-radius: 0.35em;\">\n",
       "    Bert Haanstra\n",
       "    <span style=\"font-size: 0.8em; font-weight: bold; line-height: 1; border-radius: 0.35em; text-transform: uppercase; vertical-align: middle; margin-left: 0.5rem\">PERSON</span>\n",
       "</mark>\n",
       " nam in \n",
       "<mark class=\"entity\" style=\"background: #feca74; padding: 0.45em 0.6em; margin: 0 0.25em; line-height: 1; border-radius: 0.35em;\">\n",
       "    Giethoorn\n",
       "    <span style=\"font-size: 0.8em; font-weight: bold; line-height: 1; border-radius: 0.35em; text-transform: uppercase; vertical-align: middle; margin-left: 0.5rem\">GPE</span>\n",
       "</mark>\n",
       " in \n",
       "<mark class=\"entity\" style=\"background: #bfe1d9; padding: 0.45em 0.6em; margin: 0 0.25em; line-height: 1; border-radius: 0.35em;\">\n",
       "    1958\n",
       "    <span style=\"font-size: 0.8em; font-weight: bold; line-height: 1; border-radius: 0.35em; text-transform: uppercase; vertical-align: middle; margin-left: 0.5rem\">DATE</span>\n",
       "</mark>\n",
       " zijn speelfilmdebuut \n",
       "<mark class=\"entity\" style=\"background: #aa9cfc; padding: 0.45em 0.6em; margin: 0 0.25em; line-height: 1; border-radius: 0.35em;\">\n",
       "    Fanfare\n",
       "    <span style=\"font-size: 0.8em; font-weight: bold; line-height: 1; border-radius: 0.35em; text-transform: uppercase; vertical-align: middle; margin-left: 0.5rem\">PERSON</span>\n",
       "</mark>\n",
       " op, een film over \n",
       "<mark class=\"entity\" style=\"background: #e4e7d2; padding: 0.45em 0.6em; margin: 0 0.25em; line-height: 1; border-radius: 0.35em;\">\n",
       "    twee\n",
       "    <span style=\"font-size: 0.8em; font-weight: bold; line-height: 1; border-radius: 0.35em; text-transform: uppercase; vertical-align: middle; margin-left: 0.5rem\">CARDINAL</span>\n",
       "</mark>\n",
       " rivaliserende fanfares in het fictieve dorpje \n",
       "<mark class=\"entity\" style=\"background: #feca74; padding: 0.45em 0.6em; margin: 0 0.25em; line-height: 1; border-radius: 0.35em;\">\n",
       "    Lagerwiede\n",
       "    <span style=\"font-size: 0.8em; font-weight: bold; line-height: 1; border-radius: 0.35em; text-transform: uppercase; vertical-align: middle; margin-left: 0.5rem\">GPE</span>\n",
       "</mark>\n",
       ". Na het verschijnen van de film Fanfare nam het toerisme sterk toe. </div></span>"
      ],
      "text/plain": [
       "<IPython.core.display.HTML object>"
      ]
     },
     "metadata": {},
     "output_type": "display_data"
    }
   ],
   "source": [
    "txt = \"\"\"Giethoorn (Stellingwerfs: Gietern) is een waterstreekdorp in de kop van Overijssel, in de gemeente Steenwijkerland in de Nederlandse provincie Overijssel en ligt tussen \n",
    "Steenwijk en Meppel.\n",
    "\n",
    "Bert Haanstra nam in Giethoorn in 1958 zijn speelfilmdebuut Fanfare op, een film over twee rivaliserende fanfares in het fictieve dorpje Lagerwiede. Na het verschijnen van de film Fanfare nam het toerisme sterk toe. \"\"\"\n",
    "\n",
    "doc = nlp(txt)\n",
    "displacy.render(doc, style='ent')"
   ]
  },
  {
   "cell_type": "markdown",
   "metadata": {
    "slideshow": {
     "slide_type": "slide"
    }
   },
   "source": [
    "# N-Grams\n",
    "If you payed attention you noticed I skipped over n-grams. \n",
    "N-grams, however, are simply words grouped together. You can do this arbitrarily, and make of every possible combination of consecutive words an n-gram:"
   ]
  },
  {
   "cell_type": "code",
   "execution_count": 26,
   "metadata": {
    "cell_style": "split",
    "slideshow": {
     "slide_type": "fragment"
    }
   },
   "outputs": [
    {
     "name": "stdout",
     "output_type": "stream",
     "text": [
      "('Giethoorn', '(')\n",
      "('(', 'Stellingwerfs')\n",
      "('Stellingwerfs', ':')\n",
      "(':', 'Gietern')\n",
      "('Gietern', ')')\n",
      "(')', 'is')\n",
      "('is', 'een')\n",
      "('een', 'waterstreekdorp')\n",
      "('waterstreekdorp', 'in')\n"
     ]
    }
   ],
   "source": [
    "for n in window([t.text for t in doc][:10], 2):\n",
    "    print(n)"
   ]
  },
  {
   "cell_type": "markdown",
   "metadata": {
    "cell_style": "split",
    "slideshow": {
     "slide_type": "fragment"
    }
   },
   "source": [
    "You usually want to do something smarter, and group them based on what makes sense, or has semantic meaning.\n",
    "An example of this is already the NER we did above."
   ]
  },
  {
   "cell_type": "markdown",
   "metadata": {
    "slideshow": {
     "slide_type": "slide"
    }
   },
   "source": [
    "We can display the results from spacy in two different ways, and see that spacy already does some 'Chucking' (as it's called) to create semantic meaningful n-grams:"
   ]
  },
  {
   "cell_type": "markdown",
   "metadata": {
    "cell_style": "split",
    "slideshow": {
     "slide_type": "fragment"
    }
   },
   "source": [
    "### With n-grams"
   ]
  },
  {
   "cell_type": "markdown",
   "metadata": {
    "cell_style": "split",
    "slideshow": {
     "slide_type": "fragment"
    }
   },
   "source": [
    "### No n-grams"
   ]
  },
  {
   "cell_type": "code",
   "execution_count": 27,
   "metadata": {
    "cell_style": "split",
    "slideshow": {
     "slide_type": "fragment"
    }
   },
   "outputs": [
    {
     "data": {
      "text/html": [
       "<span class=\"tex2jax_ignore\"><div class=\"entities\" style=\"line-height: 2.5; direction: ltr\">\n",
       "<mark class=\"entity\" style=\"background: #feca74; padding: 0.45em 0.6em; margin: 0 0.25em; line-height: 1; border-radius: 0.35em;\">\n",
       "    Giethoorn\n",
       "    <span style=\"font-size: 0.8em; font-weight: bold; line-height: 1; border-radius: 0.35em; text-transform: uppercase; vertical-align: middle; margin-left: 0.5rem\">GPE</span>\n",
       "</mark>\n",
       " (\n",
       "<mark class=\"entity\" style=\"background: #ff8197; padding: 0.45em 0.6em; margin: 0 0.25em; line-height: 1; border-radius: 0.35em;\">\n",
       "    Stellingwerfs\n",
       "    <span style=\"font-size: 0.8em; font-weight: bold; line-height: 1; border-radius: 0.35em; text-transform: uppercase; vertical-align: middle; margin-left: 0.5rem\">LANGUAGE</span>\n",
       "</mark>\n",
       ": \n",
       "<mark class=\"entity\" style=\"background: #feca74; padding: 0.45em 0.6em; margin: 0 0.25em; line-height: 1; border-radius: 0.35em;\">\n",
       "    Gietern\n",
       "    <span style=\"font-size: 0.8em; font-weight: bold; line-height: 1; border-radius: 0.35em; text-transform: uppercase; vertical-align: middle; margin-left: 0.5rem\">GPE</span>\n",
       "</mark>\n",
       ") is een waterstreekdorp in de kop van Overijssel, in de \n",
       "<mark class=\"entity\" style=\"background: #feca74; padding: 0.45em 0.6em; margin: 0 0.25em; line-height: 1; border-radius: 0.35em;\">\n",
       "    gemeente Steenwijkerland\n",
       "    <span style=\"font-size: 0.8em; font-weight: bold; line-height: 1; border-radius: 0.35em; text-transform: uppercase; vertical-align: middle; margin-left: 0.5rem\">GPE</span>\n",
       "</mark>\n",
       " in de \n",
       "<mark class=\"entity\" style=\"background: #c887fb; padding: 0.45em 0.6em; margin: 0 0.25em; line-height: 1; border-radius: 0.35em;\">\n",
       "    Nederlandse\n",
       "    <span style=\"font-size: 0.8em; font-weight: bold; line-height: 1; border-radius: 0.35em; text-transform: uppercase; vertical-align: middle; margin-left: 0.5rem\">NORP</span>\n",
       "</mark>\n",
       " \n",
       "<mark class=\"entity\" style=\"background: #feca74; padding: 0.45em 0.6em; margin: 0 0.25em; line-height: 1; border-radius: 0.35em;\">\n",
       "    provincie Overijssel\n",
       "    <span style=\"font-size: 0.8em; font-weight: bold; line-height: 1; border-radius: 0.35em; text-transform: uppercase; vertical-align: middle; margin-left: 0.5rem\">GPE</span>\n",
       "</mark>\n",
       " en ligt tussen </br>\n",
       "<mark class=\"entity\" style=\"background: #feca74; padding: 0.45em 0.6em; margin: 0 0.25em; line-height: 1; border-radius: 0.35em;\">\n",
       "    Steenwijk\n",
       "    <span style=\"font-size: 0.8em; font-weight: bold; line-height: 1; border-radius: 0.35em; text-transform: uppercase; vertical-align: middle; margin-left: 0.5rem\">GPE</span>\n",
       "</mark>\n",
       " en \n",
       "<mark class=\"entity\" style=\"background: #feca74; padding: 0.45em 0.6em; margin: 0 0.25em; line-height: 1; border-radius: 0.35em;\">\n",
       "    Meppel\n",
       "    <span style=\"font-size: 0.8em; font-weight: bold; line-height: 1; border-radius: 0.35em; text-transform: uppercase; vertical-align: middle; margin-left: 0.5rem\">GPE</span>\n",
       "</mark>\n",
       ".</br></br>\n",
       "<mark class=\"entity\" style=\"background: #aa9cfc; padding: 0.45em 0.6em; margin: 0 0.25em; line-height: 1; border-radius: 0.35em;\">\n",
       "    Bert Haanstra\n",
       "    <span style=\"font-size: 0.8em; font-weight: bold; line-height: 1; border-radius: 0.35em; text-transform: uppercase; vertical-align: middle; margin-left: 0.5rem\">PERSON</span>\n",
       "</mark>\n",
       " nam in \n",
       "<mark class=\"entity\" style=\"background: #feca74; padding: 0.45em 0.6em; margin: 0 0.25em; line-height: 1; border-radius: 0.35em;\">\n",
       "    Giethoorn\n",
       "    <span style=\"font-size: 0.8em; font-weight: bold; line-height: 1; border-radius: 0.35em; text-transform: uppercase; vertical-align: middle; margin-left: 0.5rem\">GPE</span>\n",
       "</mark>\n",
       " in \n",
       "<mark class=\"entity\" style=\"background: #bfe1d9; padding: 0.45em 0.6em; margin: 0 0.25em; line-height: 1; border-radius: 0.35em;\">\n",
       "    1958\n",
       "    <span style=\"font-size: 0.8em; font-weight: bold; line-height: 1; border-radius: 0.35em; text-transform: uppercase; vertical-align: middle; margin-left: 0.5rem\">DATE</span>\n",
       "</mark>\n",
       " zijn speelfilmdebuut \n",
       "<mark class=\"entity\" style=\"background: #aa9cfc; padding: 0.45em 0.6em; margin: 0 0.25em; line-height: 1; border-radius: 0.35em;\">\n",
       "    Fanfare\n",
       "    <span style=\"font-size: 0.8em; font-weight: bold; line-height: 1; border-radius: 0.35em; text-transform: uppercase; vertical-align: middle; margin-left: 0.5rem\">PERSON</span>\n",
       "</mark>\n",
       " op, een film over \n",
       "<mark class=\"entity\" style=\"background: #e4e7d2; padding: 0.45em 0.6em; margin: 0 0.25em; line-height: 1; border-radius: 0.35em;\">\n",
       "    twee\n",
       "    <span style=\"font-size: 0.8em; font-weight: bold; line-height: 1; border-radius: 0.35em; text-transform: uppercase; vertical-align: middle; margin-left: 0.5rem\">CARDINAL</span>\n",
       "</mark>\n",
       " rivaliserende fanfares in het fictieve dorpje \n",
       "<mark class=\"entity\" style=\"background: #feca74; padding: 0.45em 0.6em; margin: 0 0.25em; line-height: 1; border-radius: 0.35em;\">\n",
       "    Lagerwiede\n",
       "    <span style=\"font-size: 0.8em; font-weight: bold; line-height: 1; border-radius: 0.35em; text-transform: uppercase; vertical-align: middle; margin-left: 0.5rem\">GPE</span>\n",
       "</mark>\n",
       ". Na het verschijnen van de film Fanfare nam het toerisme sterk toe. </div></span>"
      ],
      "text/plain": [
       "<IPython.core.display.HTML object>"
      ]
     },
     "metadata": {},
     "output_type": "display_data"
    }
   ],
   "source": [
    "displacy.render(doc, 'ent')"
   ]
  },
  {
   "cell_type": "code",
   "execution_count": 28,
   "metadata": {
    "cell_style": "split",
    "slideshow": {
     "slide_type": "fragment"
    }
   },
   "outputs": [
    {
     "data": {
      "text/html": [
       "<p style=\"line-height: 2.5; direction: ltr;\"> <text style=\"background: #e78ac3; padding: 0.45em 0.6em; margin: 0 0.25em; line-height: 1; border-radius: 0.35em;\">Giethoorn <text style=\"font-size: 0.8em; font-weight: bold; line-height: 1; border-radius: 0.35em; \n",
       "                    text-transform: uppercase; vertical-align: middle; margin-left: 0.5rem;\">GPE</text></text><text style=\"line-height: 2.5; direction: ltr;\">( </text> <text style=\"background: #a6d854; padding: 0.45em 0.6em; margin: 0 0.25em; line-height: 1; border-radius: 0.35em;\">Stellingwerfs <text style=\"font-size: 0.8em; font-weight: bold; line-height: 1; border-radius: 0.35em; \n",
       "                    text-transform: uppercase; vertical-align: middle; margin-left: 0.5rem;\">LANGUAGE</text></text><text style=\"line-height: 2.5; direction: ltr;\">: </text> <text style=\"background: #e78ac3; padding: 0.45em 0.6em; margin: 0 0.25em; line-height: 1; border-radius: 0.35em;\">Gietern <text style=\"font-size: 0.8em; font-weight: bold; line-height: 1; border-radius: 0.35em; \n",
       "                    text-transform: uppercase; vertical-align: middle; margin-left: 0.5rem;\">GPE</text></text><text style=\"line-height: 2.5; direction: ltr;\">) </text> <text style=\"line-height: 2.5; direction: ltr;\">is </text> <text style=\"line-height: 2.5; direction: ltr;\">een </text> <text style=\"line-height: 2.5; direction: ltr;\">waterstreekdorp </text> <text style=\"line-height: 2.5; direction: ltr;\">in </text> <text style=\"line-height: 2.5; direction: ltr;\">de </text> <text style=\"line-height: 2.5; direction: ltr;\">kop </text> <text style=\"line-height: 2.5; direction: ltr;\">van </text> <text style=\"line-height: 2.5; direction: ltr;\">Overijssel </text><text style=\"line-height: 2.5; direction: ltr;\">, </text> <text style=\"line-height: 2.5; direction: ltr;\">in </text> <text style=\"line-height: 2.5; direction: ltr;\">de </text> <text style=\"background: #e78ac3; padding: 0.45em 0.6em; margin: 0 0.25em; line-height: 1; border-radius: 0.35em;\">gemeente <text style=\"font-size: 0.8em; font-weight: bold; line-height: 1; border-radius: 0.35em; \n",
       "                    text-transform: uppercase; vertical-align: middle; margin-left: 0.5rem;\">GPE</text></text> <text style=\"background: #e78ac3; padding: 0.45em 0.6em; margin: 0 0.25em; line-height: 1; border-radius: 0.35em;\">Steenwijkerland <text style=\"font-size: 0.8em; font-weight: bold; line-height: 1; border-radius: 0.35em; \n",
       "                    text-transform: uppercase; vertical-align: middle; margin-left: 0.5rem;\">GPE</text></text> <text style=\"line-height: 2.5; direction: ltr;\">in </text> <text style=\"line-height: 2.5; direction: ltr;\">de </text> <text style=\"background: #ffd92f; padding: 0.45em 0.6em; margin: 0 0.25em; line-height: 1; border-radius: 0.35em;\">Nederlandse <text style=\"font-size: 0.8em; font-weight: bold; line-height: 1; border-radius: 0.35em; \n",
       "                    text-transform: uppercase; vertical-align: middle; margin-left: 0.5rem;\">NORP</text></text> <text style=\"background: #e78ac3; padding: 0.45em 0.6em; margin: 0 0.25em; line-height: 1; border-radius: 0.35em;\">provincie <text style=\"font-size: 0.8em; font-weight: bold; line-height: 1; border-radius: 0.35em; \n",
       "                    text-transform: uppercase; vertical-align: middle; margin-left: 0.5rem;\">GPE</text></text> <text style=\"background: #e78ac3; padding: 0.45em 0.6em; margin: 0 0.25em; line-height: 1; border-radius: 0.35em;\">Overijssel <text style=\"font-size: 0.8em; font-weight: bold; line-height: 1; border-radius: 0.35em; \n",
       "                    text-transform: uppercase; vertical-align: middle; margin-left: 0.5rem;\">GPE</text></text> <text style=\"line-height: 2.5; direction: ltr;\">en </text> <text style=\"line-height: 2.5; direction: ltr;\">ligt </text> <text style=\"line-height: 2.5; direction: ltr;\">tussen </text> <text style=\"line-height: 2.5; direction: ltr;\">\n",
       " </text> <text style=\"background: #e78ac3; padding: 0.45em 0.6em; margin: 0 0.25em; line-height: 1; border-radius: 0.35em;\">Steenwijk <text style=\"font-size: 0.8em; font-weight: bold; line-height: 1; border-radius: 0.35em; \n",
       "                    text-transform: uppercase; vertical-align: middle; margin-left: 0.5rem;\">GPE</text></text> <text style=\"line-height: 2.5; direction: ltr;\">en </text> <text style=\"background: #e78ac3; padding: 0.45em 0.6em; margin: 0 0.25em; line-height: 1; border-radius: 0.35em;\">Meppel <text style=\"font-size: 0.8em; font-weight: bold; line-height: 1; border-radius: 0.35em; \n",
       "                    text-transform: uppercase; vertical-align: middle; margin-left: 0.5rem;\">GPE</text></text><text style=\"line-height: 2.5; direction: ltr;\">. </text> <text style=\"line-height: 2.5; direction: ltr;\">\n",
       "\n",
       " </text> <text style=\"background: #e5c494; padding: 0.45em 0.6em; margin: 0 0.25em; line-height: 1; border-radius: 0.35em;\">Bert <text style=\"font-size: 0.8em; font-weight: bold; line-height: 1; border-radius: 0.35em; \n",
       "                    text-transform: uppercase; vertical-align: middle; margin-left: 0.5rem;\">PERSON</text></text> <text style=\"background: #e5c494; padding: 0.45em 0.6em; margin: 0 0.25em; line-height: 1; border-radius: 0.35em;\">Haanstra <text style=\"font-size: 0.8em; font-weight: bold; line-height: 1; border-radius: 0.35em; \n",
       "                    text-transform: uppercase; vertical-align: middle; margin-left: 0.5rem;\">PERSON</text></text> <text style=\"line-height: 2.5; direction: ltr;\">nam </text> <text style=\"line-height: 2.5; direction: ltr;\">in </text> <text style=\"background: #e78ac3; padding: 0.45em 0.6em; margin: 0 0.25em; line-height: 1; border-radius: 0.35em;\">Giethoorn <text style=\"font-size: 0.8em; font-weight: bold; line-height: 1; border-radius: 0.35em; \n",
       "                    text-transform: uppercase; vertical-align: middle; margin-left: 0.5rem;\">GPE</text></text> <text style=\"line-height: 2.5; direction: ltr;\">in </text> <text style=\"background: #8da0cb; padding: 0.45em 0.6em; margin: 0 0.25em; line-height: 1; border-radius: 0.35em;\">1958 <text style=\"font-size: 0.8em; font-weight: bold; line-height: 1; border-radius: 0.35em; \n",
       "                    text-transform: uppercase; vertical-align: middle; margin-left: 0.5rem;\">DATE</text></text> <text style=\"line-height: 2.5; direction: ltr;\">zijn </text> <text style=\"line-height: 2.5; direction: ltr;\">speelfilmdebuut </text> <text style=\"background: #e5c494; padding: 0.45em 0.6em; margin: 0 0.25em; line-height: 1; border-radius: 0.35em;\">Fanfare <text style=\"font-size: 0.8em; font-weight: bold; line-height: 1; border-radius: 0.35em; \n",
       "                    text-transform: uppercase; vertical-align: middle; margin-left: 0.5rem;\">PERSON</text></text> <text style=\"line-height: 2.5; direction: ltr;\">op </text><text style=\"line-height: 2.5; direction: ltr;\">, </text> <text style=\"line-height: 2.5; direction: ltr;\">een </text> <text style=\"line-height: 2.5; direction: ltr;\">film </text> <text style=\"line-height: 2.5; direction: ltr;\">over </text> <text style=\"background: #fc8d62; padding: 0.45em 0.6em; margin: 0 0.25em; line-height: 1; border-radius: 0.35em;\">twee <text style=\"font-size: 0.8em; font-weight: bold; line-height: 1; border-radius: 0.35em; \n",
       "                    text-transform: uppercase; vertical-align: middle; margin-left: 0.5rem;\">CARDINAL</text></text> <text style=\"line-height: 2.5; direction: ltr;\">rivaliserende </text> <text style=\"line-height: 2.5; direction: ltr;\">fanfares </text> <text style=\"line-height: 2.5; direction: ltr;\">in </text> <text style=\"line-height: 2.5; direction: ltr;\">het </text> <text style=\"line-height: 2.5; direction: ltr;\">fictieve </text> <text style=\"line-height: 2.5; direction: ltr;\">dorpje </text> <text style=\"background: #e78ac3; padding: 0.45em 0.6em; margin: 0 0.25em; line-height: 1; border-radius: 0.35em;\">Lagerwiede <text style=\"font-size: 0.8em; font-weight: bold; line-height: 1; border-radius: 0.35em; \n",
       "                    text-transform: uppercase; vertical-align: middle; margin-left: 0.5rem;\">GPE</text></text><text style=\"line-height: 2.5; direction: ltr;\">. </text> <text style=\"line-height: 2.5; direction: ltr;\">Na </text> <text style=\"line-height: 2.5; direction: ltr;\">het </text> <text style=\"line-height: 2.5; direction: ltr;\">verschijnen </text> <text style=\"line-height: 2.5; direction: ltr;\">van </text> <text style=\"line-height: 2.5; direction: ltr;\">de </text> <text style=\"line-height: 2.5; direction: ltr;\">film </text> <text style=\"line-height: 2.5; direction: ltr;\">Fanfare </text> <text style=\"line-height: 2.5; direction: ltr;\">nam </text> <text style=\"line-height: 2.5; direction: ltr;\">het </text> <text style=\"line-height: 2.5; direction: ltr;\">toerisme </text> <text style=\"line-height: 2.5; direction: ltr;\">sterk </text> <text style=\"line-height: 2.5; direction: ltr;\">toe </text><text style=\"line-height: 2.5; direction: ltr;\">. </text></p>"
      ],
      "text/plain": [
       "<IPython.core.display.HTML object>"
      ]
     },
     "execution_count": 28,
     "metadata": {},
     "output_type": "execute_result"
    }
   ],
   "source": [
    "print_tags(doc, 'ent_type')"
   ]
  },
  {
   "cell_type": "markdown",
   "metadata": {
    "slideshow": {
     "slide_type": "slide"
    }
   },
   "source": [
    "# Exercise time\n",
    "\n",
    "Go to datacamp.com and practice with regex and NER"
   ]
  }
 ],
 "metadata": {
  "celltoolbar": "Slideshow",
  "kernelspec": {
   "display_name": "Python 3",
   "language": "python",
   "name": "python3"
  },
  "language_info": {
   "codemirror_mode": {
    "name": "ipython",
    "version": 3
   },
   "file_extension": ".py",
   "mimetype": "text/x-python",
   "name": "python",
   "nbconvert_exporter": "python",
   "pygments_lexer": "ipython3",
   "version": "3.7.5"
  },
  "rise": {
   "enable_chalkboard": true,
   "theme": "moon"
  }
 },
 "nbformat": 4,
 "nbformat_minor": 4
}
